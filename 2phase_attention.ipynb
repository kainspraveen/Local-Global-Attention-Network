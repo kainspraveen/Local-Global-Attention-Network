{
  "nbformat": 4,
  "nbformat_minor": 0,
  "metadata": {
    "colab": {
      "name": "2phase-attention.ipynb",
      "provenance": [],
      "collapsed_sections": [
        "GzmhrqIawokO"
      ],
      "machine_shape": "hm",
      "authorship_tag": "ABX9TyMRAk8Xowd1aUSwobR6Qlab",
      "include_colab_link": true
    },
    "kernelspec": {
      "name": "python3",
      "display_name": "Python 3"
    },
    "language_info": {
      "name": "python"
    },
    "accelerator": "GPU"
  },
  "cells": [
    {
      "cell_type": "markdown",
      "metadata": {
        "id": "view-in-github",
        "colab_type": "text"
      },
      "source": [
        "<a href=\"https://colab.research.google.com/github/kainspraveen/Local-Global-Attention-Network/blob/main/2phase_attention.ipynb\" target=\"_parent\"><img src=\"https://colab.research.google.com/assets/colab-badge.svg\" alt=\"Open In Colab\"/></a>"
      ]
    },
    {
      "cell_type": "code",
      "metadata": {
        "colab": {
          "base_uri": "https://localhost:8080/"
        },
        "id": "cF4dwdT-j5fL",
        "outputId": "7e556c9a-5f24-4e6c-f085-2bab9e68f1d0"
      },
      "source": [
        "!nvidia-smi"
      ],
      "execution_count": null,
      "outputs": [
        {
          "output_type": "stream",
          "name": "stdout",
          "text": [
            "Tue Oct  5 14:53:46 2021       \n",
            "+-----------------------------------------------------------------------------+\n",
            "| NVIDIA-SMI 470.74       Driver Version: 460.32.03    CUDA Version: 11.2     |\n",
            "|-------------------------------+----------------------+----------------------+\n",
            "| GPU  Name        Persistence-M| Bus-Id        Disp.A | Volatile Uncorr. ECC |\n",
            "| Fan  Temp  Perf  Pwr:Usage/Cap|         Memory-Usage | GPU-Util  Compute M. |\n",
            "|                               |                      |               MIG M. |\n",
            "|===============================+======================+======================|\n",
            "|   0  Tesla T4            Off  | 00000000:00:04.0 Off |                    0 |\n",
            "| N/A   38C    P8     9W /  70W |      0MiB / 15109MiB |      0%      Default |\n",
            "|                               |                      |                  N/A |\n",
            "+-------------------------------+----------------------+----------------------+\n",
            "                                                                               \n",
            "+-----------------------------------------------------------------------------+\n",
            "| Processes:                                                                  |\n",
            "|  GPU   GI   CI        PID   Type   Process name                  GPU Memory |\n",
            "|        ID   ID                                                   Usage      |\n",
            "|=============================================================================|\n",
            "|  No running processes found                                                 |\n",
            "+-----------------------------------------------------------------------------+\n"
          ]
        }
      ]
    },
    {
      "cell_type": "code",
      "metadata": {
        "colab": {
          "base_uri": "https://localhost:8080/"
        },
        "id": "i-i2Y5uBjau3",
        "outputId": "604737ba-2c6e-4507-e86e-5e2a00fd9607"
      },
      "source": [
        "!pip install tensorflow-addons"
      ],
      "execution_count": null,
      "outputs": [
        {
          "output_type": "stream",
          "name": "stdout",
          "text": [
            "Collecting tensorflow-addons\n",
            "  Downloading tensorflow_addons-0.14.0-cp37-cp37m-manylinux_2_12_x86_64.manylinux2010_x86_64.whl (1.1 MB)\n",
            "\u001b[?25l\r\u001b[K     |▎                               | 10 kB 29.6 MB/s eta 0:00:01\r\u001b[K     |▋                               | 20 kB 25.9 MB/s eta 0:00:01\r\u001b[K     |▉                               | 30 kB 18.7 MB/s eta 0:00:01\r\u001b[K     |█▏                              | 40 kB 16.2 MB/s eta 0:00:01\r\u001b[K     |█▌                              | 51 kB 7.2 MB/s eta 0:00:01\r\u001b[K     |█▊                              | 61 kB 8.4 MB/s eta 0:00:01\r\u001b[K     |██                              | 71 kB 8.0 MB/s eta 0:00:01\r\u001b[K     |██▍                             | 81 kB 8.8 MB/s eta 0:00:01\r\u001b[K     |██▋                             | 92 kB 9.4 MB/s eta 0:00:01\r\u001b[K     |███                             | 102 kB 7.1 MB/s eta 0:00:01\r\u001b[K     |███▎                            | 112 kB 7.1 MB/s eta 0:00:01\r\u001b[K     |███▌                            | 122 kB 7.1 MB/s eta 0:00:01\r\u001b[K     |███▉                            | 133 kB 7.1 MB/s eta 0:00:01\r\u001b[K     |████▏                           | 143 kB 7.1 MB/s eta 0:00:01\r\u001b[K     |████▍                           | 153 kB 7.1 MB/s eta 0:00:01\r\u001b[K     |████▊                           | 163 kB 7.1 MB/s eta 0:00:01\r\u001b[K     |█████                           | 174 kB 7.1 MB/s eta 0:00:01\r\u001b[K     |█████▎                          | 184 kB 7.1 MB/s eta 0:00:01\r\u001b[K     |█████▋                          | 194 kB 7.1 MB/s eta 0:00:01\r\u001b[K     |██████                          | 204 kB 7.1 MB/s eta 0:00:01\r\u001b[K     |██████▏                         | 215 kB 7.1 MB/s eta 0:00:01\r\u001b[K     |██████▌                         | 225 kB 7.1 MB/s eta 0:00:01\r\u001b[K     |██████▉                         | 235 kB 7.1 MB/s eta 0:00:01\r\u001b[K     |███████                         | 245 kB 7.1 MB/s eta 0:00:01\r\u001b[K     |███████▍                        | 256 kB 7.1 MB/s eta 0:00:01\r\u001b[K     |███████▊                        | 266 kB 7.1 MB/s eta 0:00:01\r\u001b[K     |████████                        | 276 kB 7.1 MB/s eta 0:00:01\r\u001b[K     |████████▎                       | 286 kB 7.1 MB/s eta 0:00:01\r\u001b[K     |████████▋                       | 296 kB 7.1 MB/s eta 0:00:01\r\u001b[K     |████████▉                       | 307 kB 7.1 MB/s eta 0:00:01\r\u001b[K     |█████████▏                      | 317 kB 7.1 MB/s eta 0:00:01\r\u001b[K     |█████████▌                      | 327 kB 7.1 MB/s eta 0:00:01\r\u001b[K     |█████████▊                      | 337 kB 7.1 MB/s eta 0:00:01\r\u001b[K     |██████████                      | 348 kB 7.1 MB/s eta 0:00:01\r\u001b[K     |██████████▍                     | 358 kB 7.1 MB/s eta 0:00:01\r\u001b[K     |██████████▋                     | 368 kB 7.1 MB/s eta 0:00:01\r\u001b[K     |███████████                     | 378 kB 7.1 MB/s eta 0:00:01\r\u001b[K     |███████████▎                    | 389 kB 7.1 MB/s eta 0:00:01\r\u001b[K     |███████████▌                    | 399 kB 7.1 MB/s eta 0:00:01\r\u001b[K     |███████████▉                    | 409 kB 7.1 MB/s eta 0:00:01\r\u001b[K     |████████████▏                   | 419 kB 7.1 MB/s eta 0:00:01\r\u001b[K     |████████████▍                   | 430 kB 7.1 MB/s eta 0:00:01\r\u001b[K     |████████████▊                   | 440 kB 7.1 MB/s eta 0:00:01\r\u001b[K     |█████████████                   | 450 kB 7.1 MB/s eta 0:00:01\r\u001b[K     |█████████████▎                  | 460 kB 7.1 MB/s eta 0:00:01\r\u001b[K     |█████████████▋                  | 471 kB 7.1 MB/s eta 0:00:01\r\u001b[K     |██████████████                  | 481 kB 7.1 MB/s eta 0:00:01\r\u001b[K     |██████████████▏                 | 491 kB 7.1 MB/s eta 0:00:01\r\u001b[K     |██████████████▌                 | 501 kB 7.1 MB/s eta 0:00:01\r\u001b[K     |██████████████▉                 | 512 kB 7.1 MB/s eta 0:00:01\r\u001b[K     |███████████████                 | 522 kB 7.1 MB/s eta 0:00:01\r\u001b[K     |███████████████▍                | 532 kB 7.1 MB/s eta 0:00:01\r\u001b[K     |███████████████▊                | 542 kB 7.1 MB/s eta 0:00:01\r\u001b[K     |████████████████                | 552 kB 7.1 MB/s eta 0:00:01\r\u001b[K     |████████████████▎               | 563 kB 7.1 MB/s eta 0:00:01\r\u001b[K     |████████████████▋               | 573 kB 7.1 MB/s eta 0:00:01\r\u001b[K     |████████████████▉               | 583 kB 7.1 MB/s eta 0:00:01\r\u001b[K     |█████████████████▏              | 593 kB 7.1 MB/s eta 0:00:01\r\u001b[K     |█████████████████▌              | 604 kB 7.1 MB/s eta 0:00:01\r\u001b[K     |█████████████████▊              | 614 kB 7.1 MB/s eta 0:00:01\r\u001b[K     |██████████████████              | 624 kB 7.1 MB/s eta 0:00:01\r\u001b[K     |██████████████████▍             | 634 kB 7.1 MB/s eta 0:00:01\r\u001b[K     |██████████████████▋             | 645 kB 7.1 MB/s eta 0:00:01\r\u001b[K     |███████████████████             | 655 kB 7.1 MB/s eta 0:00:01\r\u001b[K     |███████████████████▎            | 665 kB 7.1 MB/s eta 0:00:01\r\u001b[K     |███████████████████▌            | 675 kB 7.1 MB/s eta 0:00:01\r\u001b[K     |███████████████████▉            | 686 kB 7.1 MB/s eta 0:00:01\r\u001b[K     |████████████████████▏           | 696 kB 7.1 MB/s eta 0:00:01\r\u001b[K     |████████████████████▍           | 706 kB 7.1 MB/s eta 0:00:01\r\u001b[K     |████████████████████▊           | 716 kB 7.1 MB/s eta 0:00:01\r\u001b[K     |█████████████████████           | 727 kB 7.1 MB/s eta 0:00:01\r\u001b[K     |█████████████████████▎          | 737 kB 7.1 MB/s eta 0:00:01\r\u001b[K     |█████████████████████▋          | 747 kB 7.1 MB/s eta 0:00:01\r\u001b[K     |██████████████████████          | 757 kB 7.1 MB/s eta 0:00:01\r\u001b[K     |██████████████████████▏         | 768 kB 7.1 MB/s eta 0:00:01\r\u001b[K     |██████████████████████▌         | 778 kB 7.1 MB/s eta 0:00:01\r\u001b[K     |██████████████████████▉         | 788 kB 7.1 MB/s eta 0:00:01\r\u001b[K     |███████████████████████         | 798 kB 7.1 MB/s eta 0:00:01\r\u001b[K     |███████████████████████▍        | 808 kB 7.1 MB/s eta 0:00:01\r\u001b[K     |███████████████████████▊        | 819 kB 7.1 MB/s eta 0:00:01\r\u001b[K     |████████████████████████        | 829 kB 7.1 MB/s eta 0:00:01\r\u001b[K     |████████████████████████▎       | 839 kB 7.1 MB/s eta 0:00:01\r\u001b[K     |████████████████████████▋       | 849 kB 7.1 MB/s eta 0:00:01\r\u001b[K     |████████████████████████▉       | 860 kB 7.1 MB/s eta 0:00:01\r\u001b[K     |█████████████████████████▏      | 870 kB 7.1 MB/s eta 0:00:01\r\u001b[K     |█████████████████████████▍      | 880 kB 7.1 MB/s eta 0:00:01\r\u001b[K     |█████████████████████████▊      | 890 kB 7.1 MB/s eta 0:00:01\r\u001b[K     |██████████████████████████      | 901 kB 7.1 MB/s eta 0:00:01\r\u001b[K     |██████████████████████████▎     | 911 kB 7.1 MB/s eta 0:00:01\r\u001b[K     |██████████████████████████▋     | 921 kB 7.1 MB/s eta 0:00:01\r\u001b[K     |███████████████████████████     | 931 kB 7.1 MB/s eta 0:00:01\r\u001b[K     |███████████████████████████▏    | 942 kB 7.1 MB/s eta 0:00:01\r\u001b[K     |███████████████████████████▌    | 952 kB 7.1 MB/s eta 0:00:01\r\u001b[K     |███████████████████████████▉    | 962 kB 7.1 MB/s eta 0:00:01\r\u001b[K     |████████████████████████████    | 972 kB 7.1 MB/s eta 0:00:01\r\u001b[K     |████████████████████████████▍   | 983 kB 7.1 MB/s eta 0:00:01\r\u001b[K     |████████████████████████████▊   | 993 kB 7.1 MB/s eta 0:00:01\r\u001b[K     |█████████████████████████████   | 1.0 MB 7.1 MB/s eta 0:00:01\r\u001b[K     |█████████████████████████████▎  | 1.0 MB 7.1 MB/s eta 0:00:01\r\u001b[K     |█████████████████████████████▋  | 1.0 MB 7.1 MB/s eta 0:00:01\r\u001b[K     |█████████████████████████████▉  | 1.0 MB 7.1 MB/s eta 0:00:01\r\u001b[K     |██████████████████████████████▏ | 1.0 MB 7.1 MB/s eta 0:00:01\r\u001b[K     |██████████████████████████████▌ | 1.1 MB 7.1 MB/s eta 0:00:01\r\u001b[K     |██████████████████████████████▊ | 1.1 MB 7.1 MB/s eta 0:00:01\r\u001b[K     |███████████████████████████████ | 1.1 MB 7.1 MB/s eta 0:00:01\r\u001b[K     |███████████████████████████████▍| 1.1 MB 7.1 MB/s eta 0:00:01\r\u001b[K     |███████████████████████████████▋| 1.1 MB 7.1 MB/s eta 0:00:01\r\u001b[K     |████████████████████████████████| 1.1 MB 7.1 MB/s eta 0:00:01\r\u001b[K     |████████████████████████████████| 1.1 MB 7.1 MB/s \n",
            "\u001b[?25hRequirement already satisfied: typeguard>=2.7 in /usr/local/lib/python3.7/dist-packages (from tensorflow-addons) (2.7.1)\n",
            "Installing collected packages: tensorflow-addons\n",
            "Successfully installed tensorflow-addons-0.14.0\n"
          ]
        }
      ]
    },
    {
      "cell_type": "markdown",
      "metadata": {
        "id": "9g_n6LPmjnj7"
      },
      "source": [
        "# Vi-Transoformer implementation (From Keras Documentation)"
      ]
    },
    {
      "cell_type": "code",
      "metadata": {
        "colab": {
          "base_uri": "https://localhost:8080/",
          "height": 615
        },
        "id": "VPRh-BbSjmsq",
        "outputId": "416444be-b3c8-4c86-9481-06afbb9dd9b7"
      },
      "source": [
        "#Vi-Transformer Implementation\n",
        "from tensorflow import keras\n",
        "import pandas as pd\n",
        "import numpy as np\n",
        "from tensorflow.keras import layers\n",
        "import tensorflow_addons as tfa\n",
        "import tensorflow as tf\n",
        "\n",
        "#Example for CIFAR-100\n",
        "\n",
        "num_classes=100\n",
        "input_shape=(32,32,3)\n",
        "\n",
        "(x_train, y_train), (x_test, y_test) = keras.datasets.cifar100.load_data()\n",
        "\n",
        "\n",
        "print(\"x_train shape: \", x_train.shape)\n",
        "print(\"x_test shape: \", x_test.shape)\n",
        "print(\"y_train shape : \", y_train.shape)\n",
        "print(\"y_test shape : \", y_test.shape)\n",
        "\n",
        "\n",
        "#Configure Hyper Parameters\n",
        "lr=1e-2\n",
        "weight_decay= 1e-3\n",
        "batch_size=256\n",
        "num_epochs=100\n",
        "image_size=72 #resize images (32,32,3) to (72,72,3)\n",
        "patch_size=4\n",
        "num_patches = (image_size//patch_size)**2\n",
        "projection_dim=128\n",
        "num_heads=4\n",
        "\n",
        "\n",
        "transformer_units=[projection_dim*2, projection_dim ] #size of transformer layer\n",
        "\n",
        "transformer_layers=8\n",
        "mlp_head_units=[2048, 1024]\n",
        "\n",
        "\n",
        "#Data Augmentation as Keras Layer\n",
        "\n",
        "data_augmentation = keras.Sequential(\n",
        "    [\n",
        "        layers.Normalization(),\n",
        "        layers.Resizing(image_size, image_size),\n",
        "        layers.RandomFlip('horizontal'),\n",
        "        layers.RandomRotation(factor=0.02),\n",
        "        layers.RandomZoom(height_factor=0.2, width_factor=0.2)\n",
        "     \n",
        "    ],\n",
        "    name='data_augmentation'\n",
        ")\n",
        "\n",
        "data_augmentation.layers[0].adapt(x_train)\n",
        "\n",
        "\n",
        "#MLP (Multi Layer Perceptron)\n",
        "def mlp(x, hidden_units, dropout):\n",
        "    for units in hidden_units:\n",
        "        x=layers.Dense(units, activation=tf.nn.gelu)(x)\n",
        "        x=layers.Dropout(dropout)(x)\n",
        "    return x\n",
        "\n",
        "#patch Creation as Layer\n",
        "\n",
        "class Patches(layers.Layer):\n",
        "    def __init__(self, patch_size):\n",
        "        super(Patches, self).__init__()\n",
        "        self.patch_size=patch_size\n",
        "\n",
        "    def call(self, images):\n",
        "        batch_size = tf.shape(images)[0]\n",
        "        patches = tf.image.extract_patches(\n",
        "            images=images,\n",
        "            sizes=[1, self.patch_size, self.patch_size, 1],\n",
        "            strides = [1, self.patch_size, self.patch_size, 1],\n",
        "            rates= [1,1,1,1],\n",
        "            padding= 'VALID'\n",
        "        )\n",
        "        patch_dims = patches.shape[-1]\n",
        "        patches = tf.reshape(patches, [batch_size, -1,patch_dims])\n",
        "        return patches\n",
        "\n",
        "\n",
        "#display patches for an image\n",
        "from matplotlib import pyplot as plt\n",
        "plt.figure(figsize=(4,4))\n",
        "image=x_train[np.random.choice(range(x_train.shape[0]))]\n",
        "plt.imshow(image)\n",
        "plt.axis(\"off\")\n",
        "\n",
        "resized_image = tf.image.resize(\n",
        "    tf.convert_to_tensor([image]), size=(image_size, image_size)\n",
        ")\n",
        "\n",
        "patches=Patches(patch_size)(resized_image)\n",
        "print(f\"Image size: {image_size} X {image_size}\")\n",
        "print(f\"Patch size: {patch_size} X {patch_size}\")\n",
        "print(f\"Patches per image: {patches.shape[1]}\")\n",
        "print(f\"Elements per patch: {patches.shape[-1]}\")\n",
        "\n",
        "\n",
        "\n",
        "n=int(np.sqrt(patches.shape[1]))\n",
        "plt.figure(figsize=(4,4))\n",
        "\n",
        "for i, patch in enumerate(patches[0]):\n",
        "    \n",
        "    ax=plt.subplot(n,n,i+1)\n",
        "    patch_img=tf.reshape(patch, (patch_size, patch_size, 3))\n",
        "    #print(patch_img)\n",
        "    #break\n",
        "    plt.imshow(patch_img.numpy().astype('int32'))\n",
        "    plt.axis('off')\n",
        "\n",
        "#pacth encoding Layer\n",
        "\n",
        "class PatchEncoder(layers.Layer):\n",
        "    def __init__(self, num_patches, projection_dim):\n",
        "        super(PatchEncoder, self).__init__()\n",
        "        self.num_patches=num_patches\n",
        "        self.projection=layers.Dense(units=projection_dim)\n",
        "        self.position_embedding = layers.Embedding(\n",
        "            input_dim =num_patches, output_dim = projection_dim\n",
        "        )\n",
        "        print(type(self.position_embedding))\n",
        "\n",
        "    def call(self, patch):\n",
        "        positions = tf.range(start=0, limit=self.num_patches, delta=1)\n",
        "        encoded = self.projection(patch)+self.position_embedding(positions)\n",
        "        return encoded\n",
        "\n",
        "\n",
        "#build the Vi-T model\n",
        "\n",
        "#consists of multiple transformer blocks\n",
        "\n",
        "def create_vit_classifier():\n",
        "\n",
        "    inputs=layers.Input(shape=input_shape)\n",
        "\n",
        "\n",
        "    #augment data\n",
        "    augmented = data_augmentation(inputs)\n",
        "    #create patches\n",
        "    patches = Patches(patch_size)(augmented)\n",
        "\n",
        "    #encode patches\n",
        "    temp=PatchEncoder(num_patches,projection_dim)(patches)\n",
        "    encoded_patches = PatchEncoder(num_patches, projection_dim)(patches)\n",
        "    #create multiple layrs of the transformer block\n",
        "\n",
        "    for _ in range(transformer_layers):\n",
        "        #layer normalization\n",
        "        x1=layers.LayerNormalization(epsilon=1e-6)(encoded_patches)\n",
        "        attention_output=layers.MultiHeadAttention(num_heads=num_heads, key_dim=projection_dim, dropout=0.1)(x1,x1)\n",
        "        #skip connection 1\n",
        "        x2=layers.Add()([attention_output, encoded_patches])\n",
        "        #layer normalization 2\n",
        "\n",
        "        x3 = layers.LayerNormalization(epsilon=1e-6)(x2)\n",
        "        x3 = mlp(x3, hidden_units=transformer_units, dropout=0.1)\n",
        "        #skip connection 2\n",
        "        encoded_patches = layers.Add()([x3, x2])\n",
        "\n",
        "    #create a [batch_size, projection_dim] tensor\n",
        "\n",
        "    representation = layers.LayerNormalization(epsilon=1e-6)(encoded_patches)\n",
        "    representation = layers.Flatten()(representation)\n",
        "    representation = layers.Dropout(0.5)(representation)\n",
        "\n",
        "    #add mlp\n",
        "\n",
        "    #features = mlp(representation, hidden_units=mlp_head_units, dropout=0.5)\n",
        "    #classify outputs\n",
        "\n",
        "    #logits = layers.Dense(num_classes)(features)\n",
        "\n",
        "    model = keras.Model(inputs=inputs, outputs = representation)\n",
        "    return model\n",
        "\n",
        "    \n"
      ],
      "execution_count": null,
      "outputs": [
        {
          "output_type": "stream",
          "name": "stdout",
          "text": [
            "x_train shape:  (50000, 32, 32, 3)\n",
            "x_test shape:  (10000, 32, 32, 3)\n",
            "y_train shape :  (50000, 1)\n",
            "y_test shape :  (10000, 1)\n",
            "Image size: 72 X 72\n",
            "Patch size: 4 X 4\n",
            "Patches per image: 324\n",
            "Elements per patch: 48\n"
          ]
        },
        {
          "output_type": "display_data",
          "data": {
            "image/png": "[encoded data removed]",
            "text/plain": [
              "<Figure size 288x288 with 1 Axes>"
            ]
          },
          "metadata": {
            "needs_background": "light"
          }
        },
        {
          "output_type": "display_data",
          "data": {
            "image/png": "[encoded data removed]",
            "text/plain": [
              "<Figure size 288x288 with 324 Axes>"
            ]
          },
          "metadata": {
            "needs_background": "light"
          }
        }
      ]
    },
    {
      "cell_type": "code",
      "metadata": {
        "id": "2IpzhO3Tj2oW",
        "colab": {
          "base_uri": "https://localhost:8080/"
        },
        "outputId": "cac3153d-5a9c-4ba3-b8f0-5bab0f0725b8"
      },
      "source": [
        ""
      ],
      "execution_count": null,
      "outputs": [
        {
          "output_type": "stream",
          "name": "stdout",
          "text": [
            "Requirement already satisfied: numpy in /usr/local/lib/python3.7/dist-packages (1.19.5)\n"
          ]
        }
      ]
    },
    {
      "cell_type": "code",
      "metadata": {
        "id": "YvrGD7TYkVty"
      },
      "source": [
        ""
      ],
      "execution_count": null,
      "outputs": []
    },
    {
      "cell_type": "markdown",
      "metadata": {
        "id": "Kiw8jJr3kV_6"
      },
      "source": [
        "# 2-Phase Transformer : Variant - 1\n",
        "### Phase 1 : Local Attention (more like attention within patches)\n",
        "### Phase 2 : Global Attention of patches from Phase 1\n",
        "\n",
        "--------------------------------------Encoder Complete------------------------\n",
        "### {(MLP for Classification), }\n"
      ]
    },
    {
      "cell_type": "code",
      "metadata": {
        "id": "AA01UEFn9gOE",
        "colab": {
          "base_uri": "https://localhost:8080/",
          "height": 316
        },
        "outputId": "4eaf7d47-1a89-4dcd-ea7e-c4fcd1cd5ac4"
      },
      "source": [
        "#local patchmaker and patch encoder\n",
        "class PatchesLocal(layers.Layer):\n",
        "    def __init__(self, patch_size, loc_patch_size=0):\n",
        "        super(PatchesLocal, self).__init__()\n",
        "        self.patch_size=patch_size\n",
        "        self.loc_patch_size = loc_patch_size\n",
        "\n",
        "    def call(self, images):\n",
        "        batch_size = tf.shape(images)[0]\n",
        "        patches = tf.image.extract_patches(\n",
        "            images=images,\n",
        "            sizes=[1, self.patch_size, self.patch_size, 1],\n",
        "            strides = [1, self.patch_size, self.patch_size, 1],\n",
        "            rates= [1,1,1,1],\n",
        "            padding= 'VALID'\n",
        "        )\n",
        "        patch_dims = patches.shape[-1]\n",
        "        #patches = tf.reshape(patches, [batch_size, -1,patch_dims])\n",
        "        if (self.loc_patch_size):\n",
        "            num_patches=patches.shape[1]\n",
        "            num_local_patches = int((patch_size//self.loc_patch_size)**2)\n",
        "            loc_patch_dims = int(patch_dims//num_local_patches)\n",
        "            #patches = np.array(patches)\n",
        "            #patches=patches.reshape((batch_size,num_patches,num_local_patches,loc_patch_dims))\n",
        "            #patches = tf.convert_to_tensor(patches)\n",
        "            patches = tf.reshape(patches, [batch_size,-1,num_local_patches,loc_patch_dims ])\n",
        "        return patches\n",
        "\n",
        "\n",
        "class PatchEncoderLocal(layers.Layer):\n",
        "    def __init__(self, num_patches, projection_dim, num_local_patches):\n",
        "        super(PatchEncoderLocal, self).__init__()\n",
        "        self.num_patches=num_patches\n",
        "        self.num_local_patches= num_local_patches\n",
        "        self.projection=layers.Dense(units=projection_dim)\n",
        "        self.position_embedding = layers.Embedding(\n",
        "            input_dim =num_local_patches, output_dim = projection_dim\n",
        "        )\n",
        "        print(type(self.position_embedding))\n",
        "\n",
        "    def call(self, patch):\n",
        "        #batch_size=patch.shape[0]\n",
        "        #loc_patch_dims = patch.shape[-1]//self.num_local_patches\n",
        "        #patch = tf.reshape(patch, [batch_size,self.num_patches,self.num_local_patches,loc_patch_dims ])\n",
        "        positions = tf.range(start=0, limit=self.num_local_patches, delta=1)\n",
        "        encoded = self.projection(patch)+self.position_embedding(positions)\n",
        "        return encoded\n",
        "\n",
        "class PatchMerge(layers.Layer):\n",
        "    def __init__(self, patch_size, num_patches, num_patches_local, patch_size_local, projection_dim_local):\n",
        "        super(PatchMerge, self).__init__()\n",
        "        self.patch_size=patch_size\n",
        "        self.num_patches = num_patches\n",
        "        self.num_patches_local = num_patches_local\n",
        "        self.patch_size_local = patch_size_local\n",
        "        self.projection_dim_local=projection_dim_local\n",
        "    \n",
        "    def call(self,patches):\n",
        "        batch_size = tf.shape(patches)[0]\n",
        "        #patch_dim_loc = tf.shape(patches)[-1]\n",
        "        patches = tf.reshape(patches, [batch_size, self.num_patches, self.num_patches_local*self.projection_dim_local ])\n",
        "        return patches\n",
        "\n",
        "\n",
        "class PatchMergeV2(layers.Layer):\n",
        "    def __init__(self, patch_size, num_patches, dim):\n",
        "        super(PatchMergeV2, self).__init__()\n",
        "        self.patch_size = patch_size\n",
        "        self.num_patches = num_patches\n",
        "        self.dim = dim\n",
        "\n",
        "    \n",
        "    def call(self, patches):\n",
        "        import math\n",
        "        batch_size = tf.shape(patches)[0]\n",
        "        patches = tf.reshape(patches, [batch_size, self.num_patches, dim])\n",
        "        return patches\n",
        "\n",
        "image=x_train[np.random.choice(range(x_train.shape[0]))]\n",
        "plt.imshow(image)\n",
        "plt.axis(\"off\")\n",
        "\n",
        "resized_image = tf.image.resize(\n",
        "    tf.convert_to_tensor([image]), size=(image_size, image_size)\n",
        ")\n",
        "\n",
        "\n",
        "#patches=Patches(patch_size)(resized_image)\n",
        "#print(patches.shape)\n",
        "\n",
        "\n",
        "patches = Patches(4)(resized_image)\n",
        "print(\"Local patches shape \", patches.shape)\n",
        "\n",
        "patch_encoder = PatchEncoder(324, 64)(patches)\n",
        "\n",
        "#inner_patches = patches[0,0,:,:]\n",
        "#print(inner_patches.shape)\n",
        "\n",
        "\"\"\"\n",
        "plt.figure(figsize=(4,4))\n",
        "n=4\n",
        "for i, patch in enumerate(inner_patches):\n",
        "    ax=plt.subplot(n,n,i+1)\n",
        "    patch_img=tf.reshape(patch, (1, 1, 3))\n",
        "    #print(patch_img)\n",
        "    #break\n",
        "    plt.imshow(patch_img.numpy().astype('int32'))\n",
        "    plt.axis('off')\n",
        "print(\"paytch encoder :\", patch_encoder.shape)\n",
        "\"\"\"\n",
        "\n",
        "print(\"*\",patch_encoder.shape)\n",
        "merge = PatchMergeV2(2,324,64)(patch_encoder)\n",
        "print(merge.shape)\n",
        "\n",
        "\n"
      ],
      "execution_count": null,
      "outputs": [
        {
          "output_type": "stream",
          "name": "stdout",
          "text": [
            "Local patches shape  (1, 324, 48)\n",
            "<class 'keras.layers.embeddings.Embedding'>\n",
            "* (1, 324, 64)\n",
            "(1, 162, 128)\n"
          ]
        },
        {
          "output_type": "display_data",
          "data": {
            "image/png": "[encoded data removed]",
            "text/plain": [
              "<Figure size 432x288 with 1 Axes>"
            ]
          },
          "metadata": {
            "needs_background": "light"
          }
        }
      ]
    },
    {
      "cell_type": "code",
      "metadata": {
        "id": "YoxiErLFk7FW"
      },
      "source": [
        "#Architecture for Encoder\n",
        "from tensorflow.keras.utils import plot_model\n",
        "\n",
        "lr=1e-2\n",
        "weight_decay= 1e-3\n",
        "batch_size=256\n",
        "num_epochs=100\n",
        "image_size=72 #resize images (32,32,3) to (72,72,3)\n",
        "patch_size=4\n",
        "num_patches = (image_size//patch_size)**2\n",
        "projection_dim=192\n",
        "num_heads=4\n",
        "\n",
        "\n",
        "transformer_units=[projection_dim*2, projection_dim ] #size of transformer layer\n",
        "\n",
        "transformer_layers=8\n",
        "mlp_head_units=[2048, 1024]\n",
        "\n",
        "\n",
        "def phase_former():\n",
        "    input_shape = (32,32,3)\n",
        "    inputs = layers.Input(shape = input_shape)\n",
        "    augmentation = data_augmentation(inputs)\n",
        "\n",
        "    #patches = Patches(patch_size)(augmentation)\n",
        "    transformer_layers=4\n",
        "    patch_size_local=1\n",
        "    num_patches_local = int((patch_size//patch_size_local)**2)\n",
        "    projection_dim_local=12\n",
        "    num_heads_local=8\n",
        "    transformer_units_local = [projection_dim_local*2, projection_dim_local]\n",
        "\n",
        "\n",
        "    x1 = PatchesLocal(patch_size=4,loc_patch_size=1)(augmentation)\n",
        "    encoded_patches = PatchEncoderLocal(324, projection_dim_local, num_patches_local)(x1)\n",
        "\n",
        "    for _ in range(transformer_layers):\n",
        "\n",
        "        \"\"\"\n",
        "        Phase 1 - Local Attention within patches\n",
        "\n",
        "        (1,1) for phase 2 patch (4,4); (2,2) for (8,8) and so on..\n",
        "        number of phases will be such \n",
        "        that innermost phase is(1,1) patch size.\n",
        "        \n",
        "        \"\"\"\n",
        "        \n",
        "        x3=layers.LayerNormalization(epsilon=1e-6)(encoded_patches)\n",
        "        #print(x3.shape)\n",
        "        attention_output=layers.MultiHeadAttention(num_heads=num_heads_local, key_dim=projection_dim_local, dropout=0.1, attention_axes=(2,3))(encoded_patches,encoded_patches)\n",
        "        print(attention_output.shape)\n",
        "        #skip connection 1\n",
        "        x4=layers.Add()([attention_output, encoded_patches])\n",
        "        #layer normalization 2\n",
        "\n",
        "        x5 = layers.LayerNormalization(epsilon=1e-6)(x4)\n",
        "        x6 = mlp(x5, hidden_units=transformer_units_local, dropout=0.1)\n",
        "        #skip connection 2\n",
        "        encoded_patches = layers.Add()([x4, x6])\n",
        "        print(encoded_patches.shape,\"#\")\n",
        "\n",
        "\n",
        "    #Patch Merging from attention output\n",
        "    patch_merge = PatchMerge(patch_size, num_patches, num_patches_local, patch_size_local, projection_dim_local)(encoded_patches)\n",
        "    print(patch_merge.shape)\n",
        "\n",
        "    for _ in range(transformer_layers):\n",
        "\n",
        "        \"\"\"Phase 2 - Global Attention Intra-Patches\"\"\"\n",
        "        y1=layers.LayerNormalization(epsilon=1e-6)(patch_merge)\n",
        "        attention_output_2=layers.MultiHeadAttention(num_heads=num_heads, key_dim=projection_dim, dropout=0.1)(y1,y1)\n",
        "        #print(attention_output_2.shape)\n",
        "        #skip connection 1\n",
        "        y2=layers.Add()([attention_output_2, patch_merge])\n",
        "        #layer normalization 2\n",
        "\n",
        "        y4 = layers.LayerNormalization(epsilon=1e-6)(y2)\n",
        "        y5 = mlp(y4, hidden_units=transformer_units, dropout=0.1)\n",
        "        #skip connection 2\n",
        "        patch_merge = layers.Add()([y5, y2])\n",
        "\n",
        "\n",
        "\n",
        "    \n",
        "    #representation  = layers.LayerNormalization(epsilon = 1e-6)(patch_merge)\n",
        "    representation  = layers.Flatten()(patch_merge)\n",
        "\n",
        "    dense = mlp(representation, hidden_units = [2048, 1024], dropout = 0.3)\n",
        "    logits = layers.Dense(units = 100)(dense)\n",
        "    \n",
        "    model= keras.Model(inputs = inputs, outputs = logits)\n",
        "\n",
        "    return model\n",
        "\n",
        "\n",
        "\n",
        "\n",
        "\n",
        "\n",
        "\n",
        "\n"
      ],
      "execution_count": null,
      "outputs": []
    },
    {
      "cell_type": "code",
      "metadata": {
        "id": "BwChwx1Fk99M",
        "colab": {
          "base_uri": "https://localhost:8080/",
          "height": 351
        },
        "outputId": "6e3925e5-0151-4cbe-bf55-91e1cb7af515"
      },
      "source": [
        "#Model for Classification\n",
        "tf.keras.backend.clear_session()\n",
        "phase_former = phase_former()\n",
        "phase_former.summary()\n",
        "plot_model(phase_former, to_file = 'phase_former.png', show_shapes = True)\n",
        "phase_former.compile(optimizer=tf.optimizers.Adam(learning_rate=5e-4), loss=tf.keras.losses.SparseCategoricalCrossentropy(from_logits=True), metrics=[keras.metrics.SparseCategoricalAccuracy(name=\"acc\"), keras.metrics.SparseTopKCategoricalAccuracy(5, name=\"top5-acc\")] )\n"
      ],
      "execution_count": null,
      "outputs": [
        {
          "output_type": "error",
          "ename": "NameError",
          "evalue": "ignored",
          "traceback": [
            "\u001b[0;31m---------------------------------------------------------------------------\u001b[0m",
            "\u001b[0;31mNameError\u001b[0m                                 Traceback (most recent call last)",
            "\u001b[0;32m<ipython-input-5-cc3965490e50>\u001b[0m in \u001b[0;36m<module>\u001b[0;34m()\u001b[0m\n\u001b[1;32m      1\u001b[0m \u001b[0;31m#Model for Classification\u001b[0m\u001b[0;34m\u001b[0m\u001b[0;34m\u001b[0m\u001b[0;34m\u001b[0m\u001b[0m\n\u001b[1;32m      2\u001b[0m \u001b[0mtf\u001b[0m\u001b[0;34m.\u001b[0m\u001b[0mkeras\u001b[0m\u001b[0;34m.\u001b[0m\u001b[0mbackend\u001b[0m\u001b[0;34m.\u001b[0m\u001b[0mclear_session\u001b[0m\u001b[0;34m(\u001b[0m\u001b[0;34m)\u001b[0m\u001b[0;34m\u001b[0m\u001b[0;34m\u001b[0m\u001b[0m\n\u001b[0;32m----> 3\u001b[0;31m \u001b[0mphase_former\u001b[0m \u001b[0;34m=\u001b[0m \u001b[0mphase_former\u001b[0m\u001b[0;34m(\u001b[0m\u001b[0;34m)\u001b[0m\u001b[0;34m\u001b[0m\u001b[0;34m\u001b[0m\u001b[0m\n\u001b[0m\u001b[1;32m      4\u001b[0m \u001b[0mphase_former\u001b[0m\u001b[0;34m.\u001b[0m\u001b[0msummary\u001b[0m\u001b[0;34m(\u001b[0m\u001b[0;34m)\u001b[0m\u001b[0;34m\u001b[0m\u001b[0;34m\u001b[0m\u001b[0m\n\u001b[1;32m      5\u001b[0m \u001b[0mplot_model\u001b[0m\u001b[0;34m(\u001b[0m\u001b[0mphase_former\u001b[0m\u001b[0;34m,\u001b[0m \u001b[0mto_file\u001b[0m \u001b[0;34m=\u001b[0m \u001b[0;34m'phase_former.png'\u001b[0m\u001b[0;34m,\u001b[0m \u001b[0mshow_shapes\u001b[0m \u001b[0;34m=\u001b[0m \u001b[0;32mTrue\u001b[0m\u001b[0;34m)\u001b[0m\u001b[0;34m\u001b[0m\u001b[0;34m\u001b[0m\u001b[0m\n",
            "\u001b[0;32m<ipython-input-4-3503196b3c0b>\u001b[0m in \u001b[0;36mphase_former\u001b[0;34m()\u001b[0m\n\u001b[1;32m     33\u001b[0m \u001b[0;34m\u001b[0m\u001b[0m\n\u001b[1;32m     34\u001b[0m \u001b[0;34m\u001b[0m\u001b[0m\n\u001b[0;32m---> 35\u001b[0;31m     \u001b[0mx1\u001b[0m \u001b[0;34m=\u001b[0m \u001b[0mPatchesLocal\u001b[0m\u001b[0;34m(\u001b[0m\u001b[0mpatch_size\u001b[0m\u001b[0;34m=\u001b[0m\u001b[0;36m4\u001b[0m\u001b[0;34m,\u001b[0m\u001b[0mloc_patch_size\u001b[0m\u001b[0;34m=\u001b[0m\u001b[0;36m1\u001b[0m\u001b[0;34m)\u001b[0m\u001b[0;34m(\u001b[0m\u001b[0maugmentation\u001b[0m\u001b[0;34m)\u001b[0m\u001b[0;34m\u001b[0m\u001b[0;34m\u001b[0m\u001b[0m\n\u001b[0m\u001b[1;32m     36\u001b[0m     \u001b[0mencoded_patches\u001b[0m \u001b[0;34m=\u001b[0m \u001b[0mPatchEncoderLocal\u001b[0m\u001b[0;34m(\u001b[0m\u001b[0;36m324\u001b[0m\u001b[0;34m,\u001b[0m \u001b[0mprojection_dim_local\u001b[0m\u001b[0;34m,\u001b[0m \u001b[0mnum_patches_local\u001b[0m\u001b[0;34m)\u001b[0m\u001b[0;34m(\u001b[0m\u001b[0mx1\u001b[0m\u001b[0;34m)\u001b[0m\u001b[0;34m\u001b[0m\u001b[0;34m\u001b[0m\u001b[0m\n\u001b[1;32m     37\u001b[0m \u001b[0;34m\u001b[0m\u001b[0m\n",
            "\u001b[0;31mNameError\u001b[0m: name 'PatchesLocal' is not defined"
          ]
        }
      ]
    },
    {
      "cell_type": "code",
      "metadata": {
        "id": "S2TkKMMGlFlW",
        "colab": {
          "base_uri": "https://localhost:8080/",
          "height": 181
        },
        "outputId": "cd0b61d5-8045-42ae-cbb0-4e0d6270c0cc"
      },
      "source": [
        "#Training\n",
        "history = phase_former.fit(x_train, y_train, batch_size=50, epochs=150, verbose =1, validation_data = (x_test, y_test))\n"
      ],
      "execution_count": null,
      "outputs": [
        {
          "output_type": "error",
          "ename": "NameError",
          "evalue": "ignored",
          "traceback": [
            "\u001b[0;31m---------------------------------------------------------------------------\u001b[0m",
            "\u001b[0;31mNameError\u001b[0m                                 Traceback (most recent call last)",
            "\u001b[0;32m<ipython-input-1-7941892d5634>\u001b[0m in \u001b[0;36m<module>\u001b[0;34m()\u001b[0m\n\u001b[1;32m      1\u001b[0m \u001b[0;31m#Training\u001b[0m\u001b[0;34m\u001b[0m\u001b[0;34m\u001b[0m\u001b[0;34m\u001b[0m\u001b[0m\n\u001b[0;32m----> 2\u001b[0;31m \u001b[0mhistory\u001b[0m \u001b[0;34m=\u001b[0m \u001b[0mphase_former\u001b[0m\u001b[0;34m.\u001b[0m\u001b[0mfit\u001b[0m\u001b[0;34m(\u001b[0m\u001b[0mx_train\u001b[0m\u001b[0;34m,\u001b[0m \u001b[0my_train\u001b[0m\u001b[0;34m,\u001b[0m \u001b[0mbatch_size\u001b[0m\u001b[0;34m=\u001b[0m\u001b[0;36m50\u001b[0m\u001b[0;34m,\u001b[0m \u001b[0mepochs\u001b[0m\u001b[0;34m=\u001b[0m\u001b[0;36m150\u001b[0m\u001b[0;34m,\u001b[0m \u001b[0mverbose\u001b[0m \u001b[0;34m=\u001b[0m\u001b[0;36m1\u001b[0m\u001b[0;34m,\u001b[0m \u001b[0mvalidation_data\u001b[0m \u001b[0;34m=\u001b[0m \u001b[0;34m(\u001b[0m\u001b[0mx_test\u001b[0m\u001b[0;34m,\u001b[0m \u001b[0my_test\u001b[0m\u001b[0;34m)\u001b[0m\u001b[0;34m)\u001b[0m\u001b[0;34m\u001b[0m\u001b[0;34m\u001b[0m\u001b[0m\n\u001b[0m",
            "\u001b[0;31mNameError\u001b[0m: name 'phase_former' is not defined"
          ]
        }
      ]
    },
    {
      "cell_type": "code",
      "metadata": {
        "id": "sUYA7KH7lJ72"
      },
      "source": [
        "#Analysis\n",
        "phase_former.evaluate(x_test, y_test)"
      ],
      "execution_count": null,
      "outputs": []
    },
    {
      "cell_type": "markdown",
      "metadata": {
        "id": "lXGJZCuiv70h"
      },
      "source": [
        "# Phase Former Varaint 2\n",
        "###  uses multiple phases only upscaling the patches rather than starting from ground (1x1)\n",
        "### should compare both variants and understand the tradeoffs!!"
      ]
    },
    {
      "cell_type": "code",
      "metadata": {
        "id": "1OMQ7GREwOgC"
      },
      "source": [
        "#Architecture for Encoder\n",
        "from tensorflow.keras.utils import plot_model\n",
        "\n",
        "def phase_former_v2():\n",
        "    lr=1e-2\n",
        "    weight_decay= 1e-3\n",
        "    batch_size=256\n",
        "    num_epochs=100\n",
        "    image_size=72 #resize images (32,32,3) to (72,72,3)\n",
        "    patch_size=36\n",
        "    num_patches = (image_size//patch_size)**2\n",
        "    projection_dim=4\n",
        "    num_heads=4\n",
        "\n",
        "\n",
        "    transformer_units=[projection_dim*2, projection_dim ] #size of transformer layer\n",
        "\n",
        "    transformer_layers=4\n",
        "    mlp_head_units=[2048, 1024]\n",
        "\n",
        "    inputs=layers.Input(shape=input_shape)\n",
        "\n",
        "\n",
        "    #augment data\n",
        "    augmented = data_augmentation(inputs)\n",
        "    #create patches\n",
        "    patches = Patches(patch_size)(augmented)\n",
        "    #print(patches.shape)\n",
        "\n",
        "    #encode patches\n",
        "    temp=PatchEncoder(num_patches,projection_dim)(patches)\n",
        "    encoded_patches = PatchEncoder(num_patches, projection_dim)(patches)\n",
        "    #create multiple layrs of the transformer block\n",
        "\n",
        "    for _ in range(transformer_layers):\n",
        "        #layer normalization\n",
        "        x1=layers.LayerNormalization(epsilon=1e-6)(encoded_patches)\n",
        "        attention_output=layers.MultiHeadAttention(num_heads=num_heads, key_dim=projection_dim, dropout=0.1)(x1,x1)\n",
        "        #skip connection 1\n",
        "        x2=layers.Add()([attention_output, encoded_patches])\n",
        "        #layer normalization 2\n",
        "\n",
        "        x3 = layers.LayerNormalization(epsilon=1e-6)(x2)\n",
        "        x3 = mlp(x3, hidden_units=transformer_units, dropout=0.1)\n",
        "        #skip connection 2\n",
        "        encoded_patches = layers.Add()([x3, x2])\n",
        "\n",
        "\n",
        "    \"\"\"Patch Merge 1 \"\"\"\n",
        "    #print(encoded_patches.shape)\n",
        "    #num_patches = num_patches//2\n",
        "    num_patches = (72//18)**2\n",
        "    projection_dim = 18*18*3\n",
        "    print(num_patches)\n",
        "    \n",
        "    encoded_patches = PatchMergeV2(18,num_patches, projection_dim)(encoded_patches)\n",
        "    #projection_dim*=2\n",
        "    transformer_units = [projection_dim*2, projection_dim]\n",
        "    \n",
        "    #print(patch_merge.shape)\n",
        "\n",
        "\n",
        "\n",
        "    \"\"\"PHASE 2\"\"\"\n",
        "\n",
        "    for _ in range(transformer_layers):\n",
        "        #layer normalization\n",
        "        x1=layers.LayerNormalization(epsilon=1e-6)(encoded_patches)\n",
        "        #print(projection_dim)\n",
        "        attention_output=layers.MultiHeadAttention(num_heads=num_heads, key_dim=projection_dim, dropout=0.1)(x1,x1)\n",
        "        #print(attention_output.shape)\n",
        "        #skip connection 1\n",
        "        x2=layers.Add()([attention_output, encoded_patches])\n",
        "        #print(x2.shape)\n",
        "        #layer normalization 2\n",
        "\n",
        "        x3 = layers.LayerNormalization(epsilon=1e-6)(x2)\n",
        "        x3 = mlp(x3, hidden_units=transformer_units, dropout=0.1)\n",
        "        #print(x3.shape)\n",
        "        #skip connection 2\n",
        "        encoded_patches = layers.Add()([x3, x2])\n",
        "    \n",
        "    \"\"\"Patch Merge 2\"\"\"\n",
        "    num_patches = (72//9)**2\n",
        "    projection_dim = 9*9*3\n",
        "    encoded_patches = PatchMergeV2(9,num_patches, projection_dim)(encoded_patches)\n",
        "    #projection_dim*=2\n",
        "    transformer_units = [projection_dim*2, projection_dim]\n",
        "\n",
        "\n",
        "\n",
        "    \"\"\"PHASE 3 \"\"\"\n",
        "\n",
        "    for _ in range(transformer_layers):\n",
        "        #layer normalization\n",
        "        x1=layers.LayerNormalization(epsilon=1e-6)(encoded_patches)\n",
        "        attention_output=layers.MultiHeadAttention(num_heads=num_heads, key_dim=projection_dim, dropout=0.1)(x1,x1)\n",
        "        #print(attention_output.shape)\n",
        "        #skip connection 1\n",
        "        x2=layers.Add()([attention_output, encoded_patches])\n",
        "        #layer normalization 2\n",
        "\n",
        "        x3 = layers.LayerNormalization(epsilon=1e-6)(x2)\n",
        "        x3 = mlp(x3, hidden_units=transformer_units, dropout=0.1)\n",
        "        #skip connection 2\n",
        "        encoded_patches = layers.Add()([x3, x2])\n",
        "    \n",
        "    \"\"\"Patch Merge 3\"\"\"\n",
        "    num_patches = (72//4)**2\n",
        "    projection_dim = 4*4*3\n",
        "    encoded_patches = PatchMergeV2(1/81,num_patches, projection_dim)(encoded_patches)\n",
        "    #projection_dim*=2\n",
        "    transformer_units = [projection_dim*2, projection_dim]\n",
        "\n",
        "\n",
        "\n",
        "    \"\"\"PHASE 4 \"\"\"\n",
        "\n",
        "    for _ in range(transformer_layers):\n",
        "        #layer normalization\n",
        "        x1=layers.LayerNormalization(epsilon=1e-6)(encoded_patches)\n",
        "        attention_output=layers.MultiHeadAttention(num_heads=num_heads, key_dim=projection_dim, dropout=0.1)(x1,x1)\n",
        "        #print(attention_output.shape)\n",
        "        #skip connection 1\n",
        "        x2=layers.Add()([attention_output, encoded_patches])\n",
        "        #layer normalization 2\n",
        "\n",
        "        x3 = layers.LayerNormalization(epsilon=1e-6)(x2)\n",
        "        x3 = mlp(x3, hidden_units=transformer_units, dropout=0.1)\n",
        "        #skip connection 2\n",
        "        encoded_patches = layers.Add()([x3, x2])\n",
        "\n",
        "\n",
        "\n",
        "    \n",
        "    representation  = layers.LayerNormalization(epsilon = 1e-6)(encoded_patches)\n",
        "    representation  = layers.Flatten()(representation)\n",
        "\n",
        "    dense = mlp(representation, hidden_units = [2048, 1024], dropout = 0.3)\n",
        "    logits = layers.Dense(units = 100)(dense)\n",
        "    \n",
        "    model= keras.Model(inputs = inputs, outputs = logits)\n",
        "\n",
        "    return model\n",
        "\n"
      ],
      "execution_count": null,
      "outputs": []
    },
    {
      "cell_type": "code",
      "metadata": {
        "colab": {
          "base_uri": "https://localhost:8080/",
          "height": 358
        },
        "id": "5RPcLgTQwPQg",
        "outputId": "69e85347-a624-4407-97cd-8dc48b1e528c"
      },
      "source": [
        "#Model for Classification\n",
        "\n",
        "phase_former_v2 = phase_former_v2()\n",
        "phase_former_v2.summary()\n",
        "plot_model(phase_former_v2, to_file = 'phase_former_v2.png', show_shapes = True)\n",
        "phase_former_v2.compile(optimizer=tf.optimizers.Adam(learning_rate=5e-4), loss=tf.keras.losses.SparseCategoricalCrossentropy(from_logits=True), metrics=[keras.metrics.SparseCategoricalAccuracy(name=\"acc\"), keras.metrics.SparseTopKCategoricalAccuracy(5, name=\"top5-acc\")] )\n",
        "plot_model(phase_former_v2, to_file = 'v2model.png', show_shapes=True)"
      ],
      "execution_count": null,
      "outputs": [
        {
          "output_type": "stream",
          "name": "stdout",
          "text": [
            "<class 'keras.layers.embeddings.Embedding'>\n",
            "<class 'keras.layers.embeddings.Embedding'>\n",
            "16\n"
          ]
        },
        {
          "output_type": "error",
          "ename": "ResourceExhaustedError",
          "evalue": "ignored",
          "traceback": [
            "\u001b[0;31m---------------------------------------------------------------------------\u001b[0m",
            "\u001b[0;31mResourceExhaustedError\u001b[0m                    Traceback (most recent call last)",
            "\u001b[0;32m<ipython-input-30-751d2bc927dc>\u001b[0m in \u001b[0;36m<module>\u001b[0;34m()\u001b[0m\n\u001b[1;32m      1\u001b[0m \u001b[0;31m#Model for Classification\u001b[0m\u001b[0;34m\u001b[0m\u001b[0;34m\u001b[0m\u001b[0;34m\u001b[0m\u001b[0m\n\u001b[1;32m      2\u001b[0m \u001b[0;34m\u001b[0m\u001b[0m\n\u001b[0;32m----> 3\u001b[0;31m \u001b[0mphase_former_v2\u001b[0m \u001b[0;34m=\u001b[0m \u001b[0mphase_former_v2\u001b[0m\u001b[0;34m(\u001b[0m\u001b[0;34m)\u001b[0m\u001b[0;34m\u001b[0m\u001b[0;34m\u001b[0m\u001b[0m\n\u001b[0m\u001b[1;32m      4\u001b[0m \u001b[0mphase_former_v2\u001b[0m\u001b[0;34m.\u001b[0m\u001b[0msummary\u001b[0m\u001b[0;34m(\u001b[0m\u001b[0;34m)\u001b[0m\u001b[0;34m\u001b[0m\u001b[0;34m\u001b[0m\u001b[0m\n\u001b[1;32m      5\u001b[0m \u001b[0mplot_model\u001b[0m\u001b[0;34m(\u001b[0m\u001b[0mphase_former_v2\u001b[0m\u001b[0;34m,\u001b[0m \u001b[0mto_file\u001b[0m \u001b[0;34m=\u001b[0m \u001b[0;34m'phase_former_v2.png'\u001b[0m\u001b[0;34m,\u001b[0m \u001b[0mshow_shapes\u001b[0m \u001b[0;34m=\u001b[0m \u001b[0;32mTrue\u001b[0m\u001b[0;34m)\u001b[0m\u001b[0;34m\u001b[0m\u001b[0;34m\u001b[0m\u001b[0m\n",
            "\u001b[0;32m<ipython-input-29-542176ebb245>\u001b[0m in \u001b[0;36mphase_former_v2\u001b[0;34m()\u001b[0m\n\u001b[1;32m     68\u001b[0m         \u001b[0mx1\u001b[0m\u001b[0;34m=\u001b[0m\u001b[0mlayers\u001b[0m\u001b[0;34m.\u001b[0m\u001b[0mLayerNormalization\u001b[0m\u001b[0;34m(\u001b[0m\u001b[0mepsilon\u001b[0m\u001b[0;34m=\u001b[0m\u001b[0;36m1e-6\u001b[0m\u001b[0;34m)\u001b[0m\u001b[0;34m(\u001b[0m\u001b[0mencoded_patches\u001b[0m\u001b[0;34m)\u001b[0m\u001b[0;34m\u001b[0m\u001b[0;34m\u001b[0m\u001b[0m\n\u001b[1;32m     69\u001b[0m         \u001b[0;31m#print(projection_dim)\u001b[0m\u001b[0;34m\u001b[0m\u001b[0;34m\u001b[0m\u001b[0;34m\u001b[0m\u001b[0m\n\u001b[0;32m---> 70\u001b[0;31m         \u001b[0mattention_output\u001b[0m\u001b[0;34m=\u001b[0m\u001b[0mlayers\u001b[0m\u001b[0;34m.\u001b[0m\u001b[0mMultiHeadAttention\u001b[0m\u001b[0;34m(\u001b[0m\u001b[0mnum_heads\u001b[0m\u001b[0;34m=\u001b[0m\u001b[0mnum_heads\u001b[0m\u001b[0;34m,\u001b[0m \u001b[0mkey_dim\u001b[0m\u001b[0;34m=\u001b[0m\u001b[0mprojection_dim\u001b[0m\u001b[0;34m,\u001b[0m \u001b[0mdropout\u001b[0m\u001b[0;34m=\u001b[0m\u001b[0;36m0.1\u001b[0m\u001b[0;34m)\u001b[0m\u001b[0;34m(\u001b[0m\u001b[0mx1\u001b[0m\u001b[0;34m,\u001b[0m\u001b[0mx1\u001b[0m\u001b[0;34m)\u001b[0m\u001b[0;34m\u001b[0m\u001b[0;34m\u001b[0m\u001b[0m\n\u001b[0m\u001b[1;32m     71\u001b[0m         \u001b[0;31m#print(attention_output.shape)\u001b[0m\u001b[0;34m\u001b[0m\u001b[0;34m\u001b[0m\u001b[0;34m\u001b[0m\u001b[0m\n\u001b[1;32m     72\u001b[0m         \u001b[0;31m#skip connection 1\u001b[0m\u001b[0;34m\u001b[0m\u001b[0;34m\u001b[0m\u001b[0;34m\u001b[0m\u001b[0m\n",
            "\u001b[0;32m/usr/local/lib/python3.7/dist-packages/keras/engine/base_layer.py\u001b[0m in \u001b[0;36m__call__\u001b[0;34m(self, *args, **kwargs)\u001b[0m\n\u001b[1;32m    975\u001b[0m     \u001b[0;32mif\u001b[0m \u001b[0m_in_functional_construction_mode\u001b[0m\u001b[0;34m(\u001b[0m\u001b[0mself\u001b[0m\u001b[0;34m,\u001b[0m \u001b[0minputs\u001b[0m\u001b[0;34m,\u001b[0m \u001b[0margs\u001b[0m\u001b[0;34m,\u001b[0m \u001b[0mkwargs\u001b[0m\u001b[0;34m,\u001b[0m \u001b[0minput_list\u001b[0m\u001b[0;34m)\u001b[0m\u001b[0;34m:\u001b[0m\u001b[0;34m\u001b[0m\u001b[0;34m\u001b[0m\u001b[0m\n\u001b[1;32m    976\u001b[0m       return self._functional_construction_call(inputs, args, kwargs,\n\u001b[0;32m--> 977\u001b[0;31m                                                 input_list)\n\u001b[0m\u001b[1;32m    978\u001b[0m \u001b[0;34m\u001b[0m\u001b[0m\n\u001b[1;32m    979\u001b[0m     \u001b[0;31m# Maintains info about the `Layer.call` stack.\u001b[0m\u001b[0;34m\u001b[0m\u001b[0;34m\u001b[0m\u001b[0;34m\u001b[0m\u001b[0m\n",
            "\u001b[0;32m/usr/local/lib/python3.7/dist-packages/keras/engine/base_layer.py\u001b[0m in \u001b[0;36m_functional_construction_call\u001b[0;34m(self, inputs, args, kwargs, input_list)\u001b[0m\n\u001b[1;32m   1113\u001b[0m       \u001b[0;31m# Check input assumptions set after layer building, e.g. input shape.\u001b[0m\u001b[0;34m\u001b[0m\u001b[0;34m\u001b[0m\u001b[0;34m\u001b[0m\u001b[0m\n\u001b[1;32m   1114\u001b[0m       outputs = self._keras_tensor_symbolic_call(\n\u001b[0;32m-> 1115\u001b[0;31m           inputs, input_masks, args, kwargs)\n\u001b[0m\u001b[1;32m   1116\u001b[0m \u001b[0;34m\u001b[0m\u001b[0m\n\u001b[1;32m   1117\u001b[0m       \u001b[0;32mif\u001b[0m \u001b[0moutputs\u001b[0m \u001b[0;32mis\u001b[0m \u001b[0;32mNone\u001b[0m\u001b[0;34m:\u001b[0m\u001b[0;34m\u001b[0m\u001b[0;34m\u001b[0m\u001b[0m\n",
            "\u001b[0;32m/usr/local/lib/python3.7/dist-packages/keras/engine/base_layer.py\u001b[0m in \u001b[0;36m_keras_tensor_symbolic_call\u001b[0;34m(self, inputs, input_masks, args, kwargs)\u001b[0m\n\u001b[1;32m    846\u001b[0m       \u001b[0;32mreturn\u001b[0m \u001b[0mtf\u001b[0m\u001b[0;34m.\u001b[0m\u001b[0mnest\u001b[0m\u001b[0;34m.\u001b[0m\u001b[0mmap_structure\u001b[0m\u001b[0;34m(\u001b[0m\u001b[0mkeras_tensor\u001b[0m\u001b[0;34m.\u001b[0m\u001b[0mKerasTensor\u001b[0m\u001b[0;34m,\u001b[0m \u001b[0moutput_signature\u001b[0m\u001b[0;34m)\u001b[0m\u001b[0;34m\u001b[0m\u001b[0;34m\u001b[0m\u001b[0m\n\u001b[1;32m    847\u001b[0m     \u001b[0;32melse\u001b[0m\u001b[0;34m:\u001b[0m\u001b[0;34m\u001b[0m\u001b[0;34m\u001b[0m\u001b[0m\n\u001b[0;32m--> 848\u001b[0;31m       \u001b[0;32mreturn\u001b[0m \u001b[0mself\u001b[0m\u001b[0;34m.\u001b[0m\u001b[0m_infer_output_signature\u001b[0m\u001b[0;34m(\u001b[0m\u001b[0minputs\u001b[0m\u001b[0;34m,\u001b[0m \u001b[0margs\u001b[0m\u001b[0;34m,\u001b[0m \u001b[0mkwargs\u001b[0m\u001b[0;34m,\u001b[0m \u001b[0minput_masks\u001b[0m\u001b[0;34m)\u001b[0m\u001b[0;34m\u001b[0m\u001b[0;34m\u001b[0m\u001b[0m\n\u001b[0m\u001b[1;32m    849\u001b[0m \u001b[0;34m\u001b[0m\u001b[0m\n\u001b[1;32m    850\u001b[0m   \u001b[0;32mdef\u001b[0m \u001b[0m_infer_output_signature\u001b[0m\u001b[0;34m(\u001b[0m\u001b[0mself\u001b[0m\u001b[0;34m,\u001b[0m \u001b[0minputs\u001b[0m\u001b[0;34m,\u001b[0m \u001b[0margs\u001b[0m\u001b[0;34m,\u001b[0m \u001b[0mkwargs\u001b[0m\u001b[0;34m,\u001b[0m \u001b[0minput_masks\u001b[0m\u001b[0;34m)\u001b[0m\u001b[0;34m:\u001b[0m\u001b[0;34m\u001b[0m\u001b[0;34m\u001b[0m\u001b[0m\n",
            "\u001b[0;32m/usr/local/lib/python3.7/dist-packages/keras/engine/base_layer.py\u001b[0m in \u001b[0;36m_infer_output_signature\u001b[0;34m(self, inputs, args, kwargs, input_masks)\u001b[0m\n\u001b[1;32m    886\u001b[0m           \u001b[0mself\u001b[0m\u001b[0;34m.\u001b[0m\u001b[0m_maybe_build\u001b[0m\u001b[0;34m(\u001b[0m\u001b[0minputs\u001b[0m\u001b[0;34m)\u001b[0m\u001b[0;34m\u001b[0m\u001b[0;34m\u001b[0m\u001b[0m\n\u001b[1;32m    887\u001b[0m           \u001b[0minputs\u001b[0m \u001b[0;34m=\u001b[0m \u001b[0mself\u001b[0m\u001b[0;34m.\u001b[0m\u001b[0m_maybe_cast_inputs\u001b[0m\u001b[0;34m(\u001b[0m\u001b[0minputs\u001b[0m\u001b[0;34m)\u001b[0m\u001b[0;34m\u001b[0m\u001b[0;34m\u001b[0m\u001b[0m\n\u001b[0;32m--> 888\u001b[0;31m           \u001b[0moutputs\u001b[0m \u001b[0;34m=\u001b[0m \u001b[0mcall_fn\u001b[0m\u001b[0;34m(\u001b[0m\u001b[0minputs\u001b[0m\u001b[0;34m,\u001b[0m \u001b[0;34m*\u001b[0m\u001b[0margs\u001b[0m\u001b[0;34m,\u001b[0m \u001b[0;34m**\u001b[0m\u001b[0mkwargs\u001b[0m\u001b[0;34m)\u001b[0m\u001b[0;34m\u001b[0m\u001b[0;34m\u001b[0m\u001b[0m\n\u001b[0m\u001b[1;32m    889\u001b[0m \u001b[0;34m\u001b[0m\u001b[0m\n\u001b[1;32m    890\u001b[0m         \u001b[0mself\u001b[0m\u001b[0;34m.\u001b[0m\u001b[0m_handle_activity_regularization\u001b[0m\u001b[0;34m(\u001b[0m\u001b[0minputs\u001b[0m\u001b[0;34m,\u001b[0m \u001b[0moutputs\u001b[0m\u001b[0;34m)\u001b[0m\u001b[0;34m\u001b[0m\u001b[0;34m\u001b[0m\u001b[0m\n",
            "\u001b[0;32m/usr/local/lib/python3.7/dist-packages/keras/layers/multi_head_attention.py\u001b[0m in \u001b[0;36mcall\u001b[0;34m(self, query, value, key, attention_mask, return_attention_scores, training)\u001b[0m\n\u001b[1;32m    493\u001b[0m     \u001b[0;31m#   H = `size_per_head`\u001b[0m\u001b[0;34m\u001b[0m\u001b[0;34m\u001b[0m\u001b[0;34m\u001b[0m\u001b[0m\n\u001b[1;32m    494\u001b[0m     \u001b[0;31m# `query` = [B, T, N ,H]\u001b[0m\u001b[0;34m\u001b[0m\u001b[0;34m\u001b[0m\u001b[0;34m\u001b[0m\u001b[0m\n\u001b[0;32m--> 495\u001b[0;31m     \u001b[0mquery\u001b[0m \u001b[0;34m=\u001b[0m \u001b[0mself\u001b[0m\u001b[0;34m.\u001b[0m\u001b[0m_query_dense\u001b[0m\u001b[0;34m(\u001b[0m\u001b[0mquery\u001b[0m\u001b[0;34m)\u001b[0m\u001b[0;34m\u001b[0m\u001b[0;34m\u001b[0m\u001b[0m\n\u001b[0m\u001b[1;32m    496\u001b[0m \u001b[0;34m\u001b[0m\u001b[0m\n\u001b[1;32m    497\u001b[0m     \u001b[0;31m# `key` = [B, S, N, H]\u001b[0m\u001b[0;34m\u001b[0m\u001b[0;34m\u001b[0m\u001b[0;34m\u001b[0m\u001b[0m\n",
            "\u001b[0;32m/usr/local/lib/python3.7/dist-packages/keras/engine/base_layer.py\u001b[0m in \u001b[0;36m__call__\u001b[0;34m(self, *args, **kwargs)\u001b[0m\n\u001b[1;32m   1028\u001b[0m       \u001b[0;32mwith\u001b[0m \u001b[0mtf\u001b[0m\u001b[0;34m.\u001b[0m\u001b[0mname_scope\u001b[0m\u001b[0;34m(\u001b[0m\u001b[0mname_scope\u001b[0m\u001b[0;34m)\u001b[0m\u001b[0;34m:\u001b[0m\u001b[0;34m\u001b[0m\u001b[0;34m\u001b[0m\u001b[0m\n\u001b[1;32m   1029\u001b[0m         \u001b[0;32mif\u001b[0m \u001b[0;32mnot\u001b[0m \u001b[0mself\u001b[0m\u001b[0;34m.\u001b[0m\u001b[0mbuilt\u001b[0m\u001b[0;34m:\u001b[0m\u001b[0;34m\u001b[0m\u001b[0;34m\u001b[0m\u001b[0m\n\u001b[0;32m-> 1030\u001b[0;31m           \u001b[0mself\u001b[0m\u001b[0;34m.\u001b[0m\u001b[0m_maybe_build\u001b[0m\u001b[0;34m(\u001b[0m\u001b[0minputs\u001b[0m\u001b[0;34m)\u001b[0m\u001b[0;34m\u001b[0m\u001b[0;34m\u001b[0m\u001b[0m\n\u001b[0m\u001b[1;32m   1031\u001b[0m \u001b[0;34m\u001b[0m\u001b[0m\n\u001b[1;32m   1032\u001b[0m         \u001b[0;32mif\u001b[0m \u001b[0mself\u001b[0m\u001b[0;34m.\u001b[0m\u001b[0m_autocast\u001b[0m\u001b[0;34m:\u001b[0m\u001b[0;34m\u001b[0m\u001b[0;34m\u001b[0m\u001b[0m\n",
            "\u001b[0;32m/usr/local/lib/python3.7/dist-packages/keras/engine/base_layer.py\u001b[0m in \u001b[0;36m_maybe_build\u001b[0;34m(self, inputs)\u001b[0m\n\u001b[1;32m   2657\u001b[0m         \u001b[0;31m# operations.\u001b[0m\u001b[0;34m\u001b[0m\u001b[0;34m\u001b[0m\u001b[0;34m\u001b[0m\u001b[0m\n\u001b[1;32m   2658\u001b[0m         \u001b[0;32mwith\u001b[0m \u001b[0mtf_utils\u001b[0m\u001b[0;34m.\u001b[0m\u001b[0mmaybe_init_scope\u001b[0m\u001b[0;34m(\u001b[0m\u001b[0mself\u001b[0m\u001b[0;34m)\u001b[0m\u001b[0;34m:\u001b[0m\u001b[0;34m\u001b[0m\u001b[0;34m\u001b[0m\u001b[0m\n\u001b[0;32m-> 2659\u001b[0;31m           \u001b[0mself\u001b[0m\u001b[0;34m.\u001b[0m\u001b[0mbuild\u001b[0m\u001b[0;34m(\u001b[0m\u001b[0minput_shapes\u001b[0m\u001b[0;34m)\u001b[0m  \u001b[0;31m# pylint:disable=not-callable\u001b[0m\u001b[0;34m\u001b[0m\u001b[0;34m\u001b[0m\u001b[0m\n\u001b[0m\u001b[1;32m   2660\u001b[0m       \u001b[0;31m# We must set also ensure that the layer is marked as built, and the build\u001b[0m\u001b[0;34m\u001b[0m\u001b[0;34m\u001b[0m\u001b[0;34m\u001b[0m\u001b[0m\n\u001b[1;32m   2661\u001b[0m       \u001b[0;31m# shape is stored since user defined build functions may not be calling\u001b[0m\u001b[0;34m\u001b[0m\u001b[0;34m\u001b[0m\u001b[0;34m\u001b[0m\u001b[0m\n",
            "\u001b[0;32m/usr/local/lib/python3.7/dist-packages/keras/layers/einsum_dense.py\u001b[0m in \u001b[0;36mbuild\u001b[0;34m(self, input_shape)\u001b[0m\n\u001b[1;32m    148\u001b[0m         \u001b[0mconstraint\u001b[0m\u001b[0;34m=\u001b[0m\u001b[0mself\u001b[0m\u001b[0;34m.\u001b[0m\u001b[0mkernel_constraint\u001b[0m\u001b[0;34m,\u001b[0m\u001b[0;34m\u001b[0m\u001b[0;34m\u001b[0m\u001b[0m\n\u001b[1;32m    149\u001b[0m         \u001b[0mdtype\u001b[0m\u001b[0;34m=\u001b[0m\u001b[0mself\u001b[0m\u001b[0;34m.\u001b[0m\u001b[0mdtype\u001b[0m\u001b[0;34m,\u001b[0m\u001b[0;34m\u001b[0m\u001b[0;34m\u001b[0m\u001b[0m\n\u001b[0;32m--> 150\u001b[0;31m         trainable=True)\n\u001b[0m\u001b[1;32m    151\u001b[0m \u001b[0;34m\u001b[0m\u001b[0m\n\u001b[1;32m    152\u001b[0m     \u001b[0;32mif\u001b[0m \u001b[0mbias_shape\u001b[0m \u001b[0;32mis\u001b[0m \u001b[0;32mnot\u001b[0m \u001b[0;32mNone\u001b[0m\u001b[0;34m:\u001b[0m\u001b[0;34m\u001b[0m\u001b[0;34m\u001b[0m\u001b[0m\n",
            "\u001b[0;32m/usr/local/lib/python3.7/dist-packages/keras/engine/base_layer.py\u001b[0m in \u001b[0;36madd_weight\u001b[0;34m(self, name, shape, dtype, initializer, regularizer, trainable, constraint, use_resource, synchronization, aggregation, **kwargs)\u001b[0m\n\u001b[1;32m    661\u001b[0m         \u001b[0msynchronization\u001b[0m\u001b[0;34m=\u001b[0m\u001b[0msynchronization\u001b[0m\u001b[0;34m,\u001b[0m\u001b[0;34m\u001b[0m\u001b[0;34m\u001b[0m\u001b[0m\n\u001b[1;32m    662\u001b[0m         \u001b[0maggregation\u001b[0m\u001b[0;34m=\u001b[0m\u001b[0maggregation\u001b[0m\u001b[0;34m,\u001b[0m\u001b[0;34m\u001b[0m\u001b[0;34m\u001b[0m\u001b[0m\n\u001b[0;32m--> 663\u001b[0;31m         caching_device=caching_device)\n\u001b[0m\u001b[1;32m    664\u001b[0m     \u001b[0;32mif\u001b[0m \u001b[0mregularizer\u001b[0m \u001b[0;32mis\u001b[0m \u001b[0;32mnot\u001b[0m \u001b[0;32mNone\u001b[0m\u001b[0;34m:\u001b[0m\u001b[0;34m\u001b[0m\u001b[0;34m\u001b[0m\u001b[0m\n\u001b[1;32m    665\u001b[0m       \u001b[0;31m# TODO(fchollet): in the future, this should be handled at the\u001b[0m\u001b[0;34m\u001b[0m\u001b[0;34m\u001b[0m\u001b[0;34m\u001b[0m\u001b[0m\n",
            "\u001b[0;32m/usr/local/lib/python3.7/dist-packages/tensorflow/python/training/tracking/base.py\u001b[0m in \u001b[0;36m_add_variable_with_custom_getter\u001b[0;34m(self, name, shape, dtype, initializer, getter, overwrite, **kwargs_for_getter)\u001b[0m\n\u001b[1;32m    816\u001b[0m         \u001b[0mdtype\u001b[0m\u001b[0;34m=\u001b[0m\u001b[0mdtype\u001b[0m\u001b[0;34m,\u001b[0m\u001b[0;34m\u001b[0m\u001b[0;34m\u001b[0m\u001b[0m\n\u001b[1;32m    817\u001b[0m         \u001b[0minitializer\u001b[0m\u001b[0;34m=\u001b[0m\u001b[0minitializer\u001b[0m\u001b[0;34m,\u001b[0m\u001b[0;34m\u001b[0m\u001b[0;34m\u001b[0m\u001b[0m\n\u001b[0;32m--> 818\u001b[0;31m         **kwargs_for_getter)\n\u001b[0m\u001b[1;32m    819\u001b[0m \u001b[0;34m\u001b[0m\u001b[0m\n\u001b[1;32m    820\u001b[0m     \u001b[0;31m# If we set an initializer and the variable processed it, tracking will not\u001b[0m\u001b[0;34m\u001b[0m\u001b[0;34m\u001b[0m\u001b[0;34m\u001b[0m\u001b[0m\n",
            "\u001b[0;32m/usr/local/lib/python3.7/dist-packages/keras/engine/base_layer_utils.py\u001b[0m in \u001b[0;36mmake_variable\u001b[0;34m(name, shape, dtype, initializer, trainable, caching_device, validate_shape, constraint, use_resource, collections, synchronization, aggregation, partitioner)\u001b[0m\n\u001b[1;32m    127\u001b[0m       \u001b[0msynchronization\u001b[0m\u001b[0;34m=\u001b[0m\u001b[0msynchronization\u001b[0m\u001b[0;34m,\u001b[0m\u001b[0;34m\u001b[0m\u001b[0;34m\u001b[0m\u001b[0m\n\u001b[1;32m    128\u001b[0m       \u001b[0maggregation\u001b[0m\u001b[0;34m=\u001b[0m\u001b[0maggregation\u001b[0m\u001b[0;34m,\u001b[0m\u001b[0;34m\u001b[0m\u001b[0;34m\u001b[0m\u001b[0m\n\u001b[0;32m--> 129\u001b[0;31m       shape=variable_shape if variable_shape else None)\n\u001b[0m\u001b[1;32m    130\u001b[0m \u001b[0;34m\u001b[0m\u001b[0m\n\u001b[1;32m    131\u001b[0m \u001b[0;34m\u001b[0m\u001b[0m\n",
            "\u001b[0;32m/usr/local/lib/python3.7/dist-packages/tensorflow/python/ops/variables.py\u001b[0m in \u001b[0;36m__call__\u001b[0;34m(cls, *args, **kwargs)\u001b[0m\n\u001b[1;32m    264\u001b[0m   \u001b[0;32mdef\u001b[0m \u001b[0m__call__\u001b[0m\u001b[0;34m(\u001b[0m\u001b[0mcls\u001b[0m\u001b[0;34m,\u001b[0m \u001b[0;34m*\u001b[0m\u001b[0margs\u001b[0m\u001b[0;34m,\u001b[0m \u001b[0;34m**\u001b[0m\u001b[0mkwargs\u001b[0m\u001b[0;34m)\u001b[0m\u001b[0;34m:\u001b[0m\u001b[0;34m\u001b[0m\u001b[0;34m\u001b[0m\u001b[0m\n\u001b[1;32m    265\u001b[0m     \u001b[0;32mif\u001b[0m \u001b[0mcls\u001b[0m \u001b[0;32mis\u001b[0m \u001b[0mVariableV1\u001b[0m\u001b[0;34m:\u001b[0m\u001b[0;34m\u001b[0m\u001b[0;34m\u001b[0m\u001b[0m\n\u001b[0;32m--> 266\u001b[0;31m       \u001b[0;32mreturn\u001b[0m \u001b[0mcls\u001b[0m\u001b[0;34m.\u001b[0m\u001b[0m_variable_v1_call\u001b[0m\u001b[0;34m(\u001b[0m\u001b[0;34m*\u001b[0m\u001b[0margs\u001b[0m\u001b[0;34m,\u001b[0m \u001b[0;34m**\u001b[0m\u001b[0mkwargs\u001b[0m\u001b[0;34m)\u001b[0m\u001b[0;34m\u001b[0m\u001b[0;34m\u001b[0m\u001b[0m\n\u001b[0m\u001b[1;32m    267\u001b[0m     \u001b[0;32melif\u001b[0m \u001b[0mcls\u001b[0m \u001b[0;32mis\u001b[0m \u001b[0mVariable\u001b[0m\u001b[0;34m:\u001b[0m\u001b[0;34m\u001b[0m\u001b[0;34m\u001b[0m\u001b[0m\n\u001b[1;32m    268\u001b[0m       \u001b[0;32mreturn\u001b[0m \u001b[0mcls\u001b[0m\u001b[0;34m.\u001b[0m\u001b[0m_variable_v2_call\u001b[0m\u001b[0;34m(\u001b[0m\u001b[0;34m*\u001b[0m\u001b[0margs\u001b[0m\u001b[0;34m,\u001b[0m \u001b[0;34m**\u001b[0m\u001b[0mkwargs\u001b[0m\u001b[0;34m)\u001b[0m\u001b[0;34m\u001b[0m\u001b[0;34m\u001b[0m\u001b[0m\n",
            "\u001b[0;32m/usr/local/lib/python3.7/dist-packages/tensorflow/python/ops/variables.py\u001b[0m in \u001b[0;36m_variable_v1_call\u001b[0;34m(cls, initial_value, trainable, collections, validate_shape, caching_device, name, variable_def, dtype, expected_shape, import_scope, constraint, use_resource, synchronization, aggregation, shape)\u001b[0m\n\u001b[1;32m    225\u001b[0m         \u001b[0msynchronization\u001b[0m\u001b[0;34m=\u001b[0m\u001b[0msynchronization\u001b[0m\u001b[0;34m,\u001b[0m\u001b[0;34m\u001b[0m\u001b[0;34m\u001b[0m\u001b[0m\n\u001b[1;32m    226\u001b[0m         \u001b[0maggregation\u001b[0m\u001b[0;34m=\u001b[0m\u001b[0maggregation\u001b[0m\u001b[0;34m,\u001b[0m\u001b[0;34m\u001b[0m\u001b[0;34m\u001b[0m\u001b[0m\n\u001b[0;32m--> 227\u001b[0;31m         shape=shape)\n\u001b[0m\u001b[1;32m    228\u001b[0m \u001b[0;34m\u001b[0m\u001b[0m\n\u001b[1;32m    229\u001b[0m   def _variable_v2_call(cls,\n",
            "\u001b[0;32m/usr/local/lib/python3.7/dist-packages/tensorflow/python/ops/variables.py\u001b[0m in \u001b[0;36m<lambda>\u001b[0;34m(**kwargs)\u001b[0m\n\u001b[1;32m    203\u001b[0m                         shape=None):\n\u001b[1;32m    204\u001b[0m     \u001b[0;34m\"\"\"Call on Variable class. Useful to force the signature.\"\"\"\u001b[0m\u001b[0;34m\u001b[0m\u001b[0;34m\u001b[0m\u001b[0m\n\u001b[0;32m--> 205\u001b[0;31m     \u001b[0mprevious_getter\u001b[0m \u001b[0;34m=\u001b[0m \u001b[0;32mlambda\u001b[0m \u001b[0;34m**\u001b[0m\u001b[0mkwargs\u001b[0m\u001b[0;34m:\u001b[0m \u001b[0mdefault_variable_creator\u001b[0m\u001b[0;34m(\u001b[0m\u001b[0;32mNone\u001b[0m\u001b[0;34m,\u001b[0m \u001b[0;34m**\u001b[0m\u001b[0mkwargs\u001b[0m\u001b[0;34m)\u001b[0m\u001b[0;34m\u001b[0m\u001b[0;34m\u001b[0m\u001b[0m\n\u001b[0m\u001b[1;32m    206\u001b[0m     \u001b[0;32mfor\u001b[0m \u001b[0m_\u001b[0m\u001b[0;34m,\u001b[0m \u001b[0mgetter\u001b[0m \u001b[0;32min\u001b[0m \u001b[0mops\u001b[0m\u001b[0;34m.\u001b[0m\u001b[0mget_default_graph\u001b[0m\u001b[0;34m(\u001b[0m\u001b[0;34m)\u001b[0m\u001b[0;34m.\u001b[0m\u001b[0m_variable_creator_stack\u001b[0m\u001b[0;34m:\u001b[0m  \u001b[0;31m# pylint: disable=protected-access\u001b[0m\u001b[0;34m\u001b[0m\u001b[0;34m\u001b[0m\u001b[0m\n\u001b[1;32m    207\u001b[0m       \u001b[0mprevious_getter\u001b[0m \u001b[0;34m=\u001b[0m \u001b[0m_make_getter\u001b[0m\u001b[0;34m(\u001b[0m\u001b[0mgetter\u001b[0m\u001b[0;34m,\u001b[0m \u001b[0mprevious_getter\u001b[0m\u001b[0;34m)\u001b[0m\u001b[0;34m\u001b[0m\u001b[0;34m\u001b[0m\u001b[0m\n",
            "\u001b[0;32m/usr/local/lib/python3.7/dist-packages/tensorflow/python/ops/variable_scope.py\u001b[0m in \u001b[0;36mdefault_variable_creator\u001b[0;34m(next_creator, **kwargs)\u001b[0m\n\u001b[1;32m   2624\u001b[0m         \u001b[0msynchronization\u001b[0m\u001b[0;34m=\u001b[0m\u001b[0msynchronization\u001b[0m\u001b[0;34m,\u001b[0m\u001b[0;34m\u001b[0m\u001b[0;34m\u001b[0m\u001b[0m\n\u001b[1;32m   2625\u001b[0m         \u001b[0maggregation\u001b[0m\u001b[0;34m=\u001b[0m\u001b[0maggregation\u001b[0m\u001b[0;34m,\u001b[0m\u001b[0;34m\u001b[0m\u001b[0;34m\u001b[0m\u001b[0m\n\u001b[0;32m-> 2626\u001b[0;31m         shape=shape)\n\u001b[0m\u001b[1;32m   2627\u001b[0m   \u001b[0;32melse\u001b[0m\u001b[0;34m:\u001b[0m\u001b[0;34m\u001b[0m\u001b[0;34m\u001b[0m\u001b[0m\n\u001b[1;32m   2628\u001b[0m     return variables.RefVariable(\n",
            "\u001b[0;32m/usr/local/lib/python3.7/dist-packages/tensorflow/python/ops/variables.py\u001b[0m in \u001b[0;36m__call__\u001b[0;34m(cls, *args, **kwargs)\u001b[0m\n\u001b[1;32m    268\u001b[0m       \u001b[0;32mreturn\u001b[0m \u001b[0mcls\u001b[0m\u001b[0;34m.\u001b[0m\u001b[0m_variable_v2_call\u001b[0m\u001b[0;34m(\u001b[0m\u001b[0;34m*\u001b[0m\u001b[0margs\u001b[0m\u001b[0;34m,\u001b[0m \u001b[0;34m**\u001b[0m\u001b[0mkwargs\u001b[0m\u001b[0;34m)\u001b[0m\u001b[0;34m\u001b[0m\u001b[0;34m\u001b[0m\u001b[0m\n\u001b[1;32m    269\u001b[0m     \u001b[0;32melse\u001b[0m\u001b[0;34m:\u001b[0m\u001b[0;34m\u001b[0m\u001b[0;34m\u001b[0m\u001b[0m\n\u001b[0;32m--> 270\u001b[0;31m       \u001b[0;32mreturn\u001b[0m \u001b[0msuper\u001b[0m\u001b[0;34m(\u001b[0m\u001b[0mVariableMetaclass\u001b[0m\u001b[0;34m,\u001b[0m \u001b[0mcls\u001b[0m\u001b[0;34m)\u001b[0m\u001b[0;34m.\u001b[0m\u001b[0m__call__\u001b[0m\u001b[0;34m(\u001b[0m\u001b[0;34m*\u001b[0m\u001b[0margs\u001b[0m\u001b[0;34m,\u001b[0m \u001b[0;34m**\u001b[0m\u001b[0mkwargs\u001b[0m\u001b[0;34m)\u001b[0m\u001b[0;34m\u001b[0m\u001b[0;34m\u001b[0m\u001b[0m\n\u001b[0m\u001b[1;32m    271\u001b[0m \u001b[0;34m\u001b[0m\u001b[0m\n\u001b[1;32m    272\u001b[0m \u001b[0;34m\u001b[0m\u001b[0m\n",
            "\u001b[0;32m/usr/local/lib/python3.7/dist-packages/tensorflow/python/ops/resource_variable_ops.py\u001b[0m in \u001b[0;36m__init__\u001b[0;34m(self, initial_value, trainable, collections, validate_shape, caching_device, name, dtype, variable_def, import_scope, constraint, distribute_strategy, synchronization, aggregation, shape)\u001b[0m\n\u001b[1;32m   1611\u001b[0m           \u001b[0maggregation\u001b[0m\u001b[0;34m=\u001b[0m\u001b[0maggregation\u001b[0m\u001b[0;34m,\u001b[0m\u001b[0;34m\u001b[0m\u001b[0;34m\u001b[0m\u001b[0m\n\u001b[1;32m   1612\u001b[0m           \u001b[0mshape\u001b[0m\u001b[0;34m=\u001b[0m\u001b[0mshape\u001b[0m\u001b[0;34m,\u001b[0m\u001b[0;34m\u001b[0m\u001b[0;34m\u001b[0m\u001b[0m\n\u001b[0;32m-> 1613\u001b[0;31m           distribute_strategy=distribute_strategy)\n\u001b[0m\u001b[1;32m   1614\u001b[0m \u001b[0;34m\u001b[0m\u001b[0m\n\u001b[1;32m   1615\u001b[0m   def _init_from_args(self,\n",
            "\u001b[0;32m/usr/local/lib/python3.7/dist-packages/tensorflow/python/ops/resource_variable_ops.py\u001b[0m in \u001b[0;36m_init_from_args\u001b[0;34m(self, initial_value, trainable, collections, caching_device, name, dtype, constraint, synchronization, aggregation, distribute_strategy, shape)\u001b[0m\n\u001b[1;32m   1738\u001b[0m           \u001b[0;32mwith\u001b[0m \u001b[0mops\u001b[0m\u001b[0;34m.\u001b[0m\u001b[0mname_scope\u001b[0m\u001b[0;34m(\u001b[0m\u001b[0;34m\"Initializer\"\u001b[0m\u001b[0;34m)\u001b[0m\u001b[0;34m,\u001b[0m \u001b[0mdevice_context_manager\u001b[0m\u001b[0;34m(\u001b[0m\u001b[0;32mNone\u001b[0m\u001b[0;34m)\u001b[0m\u001b[0;34m:\u001b[0m\u001b[0;34m\u001b[0m\u001b[0;34m\u001b[0m\u001b[0m\n\u001b[1;32m   1739\u001b[0m             \u001b[0;32mif\u001b[0m \u001b[0minit_from_fn\u001b[0m\u001b[0;34m:\u001b[0m\u001b[0;34m\u001b[0m\u001b[0;34m\u001b[0m\u001b[0m\n\u001b[0;32m-> 1740\u001b[0;31m               \u001b[0minitial_value\u001b[0m \u001b[0;34m=\u001b[0m \u001b[0minitial_value\u001b[0m\u001b[0;34m(\u001b[0m\u001b[0;34m)\u001b[0m\u001b[0;34m\u001b[0m\u001b[0;34m\u001b[0m\u001b[0m\n\u001b[0m\u001b[1;32m   1741\u001b[0m             \u001b[0;32mif\u001b[0m \u001b[0misinstance\u001b[0m\u001b[0;34m(\u001b[0m\u001b[0minitial_value\u001b[0m\u001b[0;34m,\u001b[0m \u001b[0mtrackable\u001b[0m\u001b[0;34m.\u001b[0m\u001b[0mCheckpointInitialValue\u001b[0m\u001b[0;34m)\u001b[0m\u001b[0;34m:\u001b[0m\u001b[0;34m\u001b[0m\u001b[0;34m\u001b[0m\u001b[0m\n\u001b[1;32m   1742\u001b[0m               \u001b[0mself\u001b[0m\u001b[0;34m.\u001b[0m\u001b[0m_maybe_initialize_trackable\u001b[0m\u001b[0;34m(\u001b[0m\u001b[0;34m)\u001b[0m\u001b[0;34m\u001b[0m\u001b[0;34m\u001b[0m\u001b[0m\n",
            "\u001b[0;32m/usr/local/lib/python3.7/dist-packages/keras/initializers/initializers_v2.py\u001b[0m in \u001b[0;36m__call__\u001b[0;34m(self, shape, dtype, **kwargs)\u001b[0m\n\u001b[1;32m    515\u001b[0m     \u001b[0;32melse\u001b[0m\u001b[0;34m:\u001b[0m\u001b[0;34m\u001b[0m\u001b[0;34m\u001b[0m\u001b[0m\n\u001b[1;32m    516\u001b[0m       \u001b[0mlimit\u001b[0m \u001b[0;34m=\u001b[0m \u001b[0mmath\u001b[0m\u001b[0;34m.\u001b[0m\u001b[0msqrt\u001b[0m\u001b[0;34m(\u001b[0m\u001b[0;36m3.0\u001b[0m \u001b[0;34m*\u001b[0m \u001b[0mscale\u001b[0m\u001b[0;34m)\u001b[0m\u001b[0;34m\u001b[0m\u001b[0;34m\u001b[0m\u001b[0m\n\u001b[0;32m--> 517\u001b[0;31m       \u001b[0;32mreturn\u001b[0m \u001b[0mself\u001b[0m\u001b[0;34m.\u001b[0m\u001b[0m_random_generator\u001b[0m\u001b[0;34m.\u001b[0m\u001b[0mrandom_uniform\u001b[0m\u001b[0;34m(\u001b[0m\u001b[0mshape\u001b[0m\u001b[0;34m,\u001b[0m \u001b[0;34m-\u001b[0m\u001b[0mlimit\u001b[0m\u001b[0;34m,\u001b[0m \u001b[0mlimit\u001b[0m\u001b[0;34m,\u001b[0m \u001b[0mdtype\u001b[0m\u001b[0;34m)\u001b[0m\u001b[0;34m\u001b[0m\u001b[0;34m\u001b[0m\u001b[0m\n\u001b[0m\u001b[1;32m    518\u001b[0m \u001b[0;34m\u001b[0m\u001b[0m\n\u001b[1;32m    519\u001b[0m   \u001b[0;32mdef\u001b[0m \u001b[0mget_config\u001b[0m\u001b[0;34m(\u001b[0m\u001b[0mself\u001b[0m\u001b[0;34m)\u001b[0m\u001b[0;34m:\u001b[0m\u001b[0;34m\u001b[0m\u001b[0;34m\u001b[0m\u001b[0m\n",
            "\u001b[0;32m/usr/local/lib/python3.7/dist-packages/keras/initializers/initializers_v2.py\u001b[0m in \u001b[0;36mrandom_uniform\u001b[0;34m(self, shape, minval, maxval, dtype)\u001b[0m\n\u001b[1;32m    971\u001b[0m       \u001b[0mop\u001b[0m \u001b[0;34m=\u001b[0m \u001b[0mtf\u001b[0m\u001b[0;34m.\u001b[0m\u001b[0mrandom\u001b[0m\u001b[0;34m.\u001b[0m\u001b[0muniform\u001b[0m\u001b[0;34m\u001b[0m\u001b[0;34m\u001b[0m\u001b[0m\n\u001b[1;32m    972\u001b[0m     return op(\n\u001b[0;32m--> 973\u001b[0;31m         shape=shape, minval=minval, maxval=maxval, dtype=dtype, seed=self.seed)\n\u001b[0m\u001b[1;32m    974\u001b[0m \u001b[0;34m\u001b[0m\u001b[0m\n\u001b[1;32m    975\u001b[0m   \u001b[0;32mdef\u001b[0m \u001b[0mtruncated_normal\u001b[0m\u001b[0;34m(\u001b[0m\u001b[0mself\u001b[0m\u001b[0;34m,\u001b[0m \u001b[0mshape\u001b[0m\u001b[0;34m,\u001b[0m \u001b[0mmean\u001b[0m\u001b[0;34m,\u001b[0m \u001b[0mstddev\u001b[0m\u001b[0;34m,\u001b[0m \u001b[0mdtype\u001b[0m\u001b[0;34m)\u001b[0m\u001b[0;34m:\u001b[0m\u001b[0;34m\u001b[0m\u001b[0;34m\u001b[0m\u001b[0m\n",
            "\u001b[0;32m/usr/local/lib/python3.7/dist-packages/tensorflow/python/util/dispatch.py\u001b[0m in \u001b[0;36mwrapper\u001b[0;34m(*args, **kwargs)\u001b[0m\n\u001b[1;32m    204\u001b[0m     \u001b[0;34m\"\"\"Call target, and fall back on dispatchers if there is a TypeError.\"\"\"\u001b[0m\u001b[0;34m\u001b[0m\u001b[0;34m\u001b[0m\u001b[0m\n\u001b[1;32m    205\u001b[0m     \u001b[0;32mtry\u001b[0m\u001b[0;34m:\u001b[0m\u001b[0;34m\u001b[0m\u001b[0;34m\u001b[0m\u001b[0m\n\u001b[0;32m--> 206\u001b[0;31m       \u001b[0;32mreturn\u001b[0m \u001b[0mtarget\u001b[0m\u001b[0;34m(\u001b[0m\u001b[0;34m*\u001b[0m\u001b[0margs\u001b[0m\u001b[0;34m,\u001b[0m \u001b[0;34m**\u001b[0m\u001b[0mkwargs\u001b[0m\u001b[0;34m)\u001b[0m\u001b[0;34m\u001b[0m\u001b[0;34m\u001b[0m\u001b[0m\n\u001b[0m\u001b[1;32m    207\u001b[0m     \u001b[0;32mexcept\u001b[0m \u001b[0;34m(\u001b[0m\u001b[0mTypeError\u001b[0m\u001b[0;34m,\u001b[0m \u001b[0mValueError\u001b[0m\u001b[0;34m)\u001b[0m\u001b[0;34m:\u001b[0m\u001b[0;34m\u001b[0m\u001b[0;34m\u001b[0m\u001b[0m\n\u001b[1;32m    208\u001b[0m       \u001b[0;31m# Note: convert_to_eager_tensor currently raises a ValueError, not a\u001b[0m\u001b[0;34m\u001b[0m\u001b[0;34m\u001b[0m\u001b[0;34m\u001b[0m\u001b[0m\n",
            "\u001b[0;32m/usr/local/lib/python3.7/dist-packages/tensorflow/python/ops/random_ops.py\u001b[0m in \u001b[0;36mrandom_uniform\u001b[0;34m(shape, minval, maxval, dtype, seed, name)\u001b[0m\n\u001b[1;32m    308\u001b[0m     \u001b[0;32melse\u001b[0m\u001b[0;34m:\u001b[0m\u001b[0;34m\u001b[0m\u001b[0;34m\u001b[0m\u001b[0m\n\u001b[1;32m    309\u001b[0m       result = gen_random_ops.random_uniform(\n\u001b[0;32m--> 310\u001b[0;31m           shape, dtype, seed=seed1, seed2=seed2)\n\u001b[0m\u001b[1;32m    311\u001b[0m       \u001b[0;32mif\u001b[0m \u001b[0mminval_is_zero\u001b[0m\u001b[0;34m:\u001b[0m\u001b[0;34m\u001b[0m\u001b[0;34m\u001b[0m\u001b[0m\n\u001b[1;32m    312\u001b[0m         \u001b[0;32mif\u001b[0m \u001b[0;32mnot\u001b[0m \u001b[0mmaxval_is_one\u001b[0m\u001b[0;34m:\u001b[0m\u001b[0;34m\u001b[0m\u001b[0;34m\u001b[0m\u001b[0m\n",
            "\u001b[0;32m/usr/local/lib/python3.7/dist-packages/tensorflow/python/ops/gen_random_ops.py\u001b[0m in \u001b[0;36mrandom_uniform\u001b[0;34m(shape, dtype, seed, seed2, name)\u001b[0m\n\u001b[1;32m    719\u001b[0m       \u001b[0;32mreturn\u001b[0m \u001b[0m_result\u001b[0m\u001b[0;34m\u001b[0m\u001b[0;34m\u001b[0m\u001b[0m\n\u001b[1;32m    720\u001b[0m     \u001b[0;32mexcept\u001b[0m \u001b[0m_core\u001b[0m\u001b[0;34m.\u001b[0m\u001b[0m_NotOkStatusException\u001b[0m \u001b[0;32mas\u001b[0m \u001b[0me\u001b[0m\u001b[0;34m:\u001b[0m\u001b[0;34m\u001b[0m\u001b[0;34m\u001b[0m\u001b[0m\n\u001b[0;32m--> 721\u001b[0;31m       \u001b[0m_ops\u001b[0m\u001b[0;34m.\u001b[0m\u001b[0mraise_from_not_ok_status\u001b[0m\u001b[0;34m(\u001b[0m\u001b[0me\u001b[0m\u001b[0;34m,\u001b[0m \u001b[0mname\u001b[0m\u001b[0;34m)\u001b[0m\u001b[0;34m\u001b[0m\u001b[0;34m\u001b[0m\u001b[0m\n\u001b[0m\u001b[1;32m    722\u001b[0m     \u001b[0;32mexcept\u001b[0m \u001b[0m_core\u001b[0m\u001b[0;34m.\u001b[0m\u001b[0m_FallbackException\u001b[0m\u001b[0;34m:\u001b[0m\u001b[0;34m\u001b[0m\u001b[0;34m\u001b[0m\u001b[0m\n\u001b[1;32m    723\u001b[0m       \u001b[0;32mpass\u001b[0m\u001b[0;34m\u001b[0m\u001b[0;34m\u001b[0m\u001b[0m\n",
            "\u001b[0;32m/usr/local/lib/python3.7/dist-packages/tensorflow/python/framework/ops.py\u001b[0m in \u001b[0;36mraise_from_not_ok_status\u001b[0;34m(e, name)\u001b[0m\n\u001b[1;32m   6939\u001b[0m   \u001b[0mmessage\u001b[0m \u001b[0;34m=\u001b[0m \u001b[0me\u001b[0m\u001b[0;34m.\u001b[0m\u001b[0mmessage\u001b[0m \u001b[0;34m+\u001b[0m \u001b[0;34m(\u001b[0m\u001b[0;34m\" name: \"\u001b[0m \u001b[0;34m+\u001b[0m \u001b[0mname\u001b[0m \u001b[0;32mif\u001b[0m \u001b[0mname\u001b[0m \u001b[0;32mis\u001b[0m \u001b[0;32mnot\u001b[0m \u001b[0;32mNone\u001b[0m \u001b[0;32melse\u001b[0m \u001b[0;34m\"\"\u001b[0m\u001b[0;34m)\u001b[0m\u001b[0;34m\u001b[0m\u001b[0;34m\u001b[0m\u001b[0m\n\u001b[1;32m   6940\u001b[0m   \u001b[0;31m# pylint: disable=protected-access\u001b[0m\u001b[0;34m\u001b[0m\u001b[0;34m\u001b[0m\u001b[0;34m\u001b[0m\u001b[0m\n\u001b[0;32m-> 6941\u001b[0;31m   \u001b[0msix\u001b[0m\u001b[0;34m.\u001b[0m\u001b[0mraise_from\u001b[0m\u001b[0;34m(\u001b[0m\u001b[0mcore\u001b[0m\u001b[0;34m.\u001b[0m\u001b[0m_status_to_exception\u001b[0m\u001b[0;34m(\u001b[0m\u001b[0me\u001b[0m\u001b[0;34m.\u001b[0m\u001b[0mcode\u001b[0m\u001b[0;34m,\u001b[0m \u001b[0mmessage\u001b[0m\u001b[0;34m)\u001b[0m\u001b[0;34m,\u001b[0m \u001b[0;32mNone\u001b[0m\u001b[0;34m)\u001b[0m\u001b[0;34m\u001b[0m\u001b[0;34m\u001b[0m\u001b[0m\n\u001b[0m\u001b[1;32m   6942\u001b[0m   \u001b[0;31m# pylint: enable=protected-access\u001b[0m\u001b[0;34m\u001b[0m\u001b[0;34m\u001b[0m\u001b[0;34m\u001b[0m\u001b[0m\n\u001b[1;32m   6943\u001b[0m \u001b[0;34m\u001b[0m\u001b[0m\n",
            "\u001b[0;32m/usr/local/lib/python3.7/dist-packages/six.py\u001b[0m in \u001b[0;36mraise_from\u001b[0;34m(value, from_value)\u001b[0m\n",
            "\u001b[0;31mResourceExhaustedError\u001b[0m: OOM when allocating tensor with shape[17496,4,972] and type float on /job:localhost/replica:0/task:0/device:GPU:0 by allocator GPU_0_bfc [Op:RandomUniform]"
          ]
        }
      ]
    },
    {
      "cell_type": "code",
      "metadata": {
        "colab": {
          "base_uri": "https://localhost:8080/",
          "height": 528
        },
        "id": "aB1FOF5iwbJZ",
        "outputId": "62bd8249-43e5-4fc3-bab6-3284c218375b"
      },
      "source": [
        "#Analysis\n",
        "history = phase_former_v2.fit(x_train, y_train, epochs = 150, batch_size=130, validation_data=(x_test,y_test))\n",
        "phase_former_v2.evaluate(x_test, y_test)"
      ],
      "execution_count": null,
      "outputs": [
        {
          "output_type": "stream",
          "name": "stdout",
          "text": [
            "Epoch 1/150\n"
          ]
        },
        {
          "output_type": "error",
          "ename": "InvalidArgumentError",
          "evalue": "ignored",
          "traceback": [
            "\u001b[0;31m---------------------------------------------------------------------------\u001b[0m",
            "\u001b[0;31mInvalidArgumentError\u001b[0m                      Traceback (most recent call last)",
            "\u001b[0;32m<ipython-input-8-32909cb38f86>\u001b[0m in \u001b[0;36m<module>\u001b[0;34m()\u001b[0m\n\u001b[1;32m      1\u001b[0m \u001b[0;31m#Analysis\u001b[0m\u001b[0;34m\u001b[0m\u001b[0;34m\u001b[0m\u001b[0;34m\u001b[0m\u001b[0m\n\u001b[0;32m----> 2\u001b[0;31m \u001b[0mhistory\u001b[0m \u001b[0;34m=\u001b[0m \u001b[0mphase_former_v2\u001b[0m\u001b[0;34m.\u001b[0m\u001b[0mfit\u001b[0m\u001b[0;34m(\u001b[0m\u001b[0mx_train\u001b[0m\u001b[0;34m,\u001b[0m \u001b[0my_train\u001b[0m\u001b[0;34m,\u001b[0m \u001b[0mepochs\u001b[0m \u001b[0;34m=\u001b[0m \u001b[0;36m150\u001b[0m\u001b[0;34m,\u001b[0m \u001b[0mbatch_size\u001b[0m\u001b[0;34m=\u001b[0m\u001b[0;36m130\u001b[0m\u001b[0;34m,\u001b[0m \u001b[0mvalidation_data\u001b[0m\u001b[0;34m=\u001b[0m\u001b[0;34m(\u001b[0m\u001b[0mx_test\u001b[0m\u001b[0;34m,\u001b[0m\u001b[0my_test\u001b[0m\u001b[0;34m)\u001b[0m\u001b[0;34m)\u001b[0m\u001b[0;34m\u001b[0m\u001b[0;34m\u001b[0m\u001b[0m\n\u001b[0m\u001b[1;32m      3\u001b[0m \u001b[0mphase_former_v2\u001b[0m\u001b[0;34m.\u001b[0m\u001b[0mevaluate\u001b[0m\u001b[0;34m(\u001b[0m\u001b[0mx_test\u001b[0m\u001b[0;34m,\u001b[0m \u001b[0my_test\u001b[0m\u001b[0;34m)\u001b[0m\u001b[0;34m\u001b[0m\u001b[0;34m\u001b[0m\u001b[0m\n",
            "\u001b[0;32m/usr/local/lib/python3.7/dist-packages/keras/engine/training.py\u001b[0m in \u001b[0;36mfit\u001b[0;34m(self, x, y, batch_size, epochs, verbose, callbacks, validation_split, validation_data, shuffle, class_weight, sample_weight, initial_epoch, steps_per_epoch, validation_steps, validation_batch_size, validation_freq, max_queue_size, workers, use_multiprocessing)\u001b[0m\n\u001b[1;32m   1182\u001b[0m                 _r=1):\n\u001b[1;32m   1183\u001b[0m               \u001b[0mcallbacks\u001b[0m\u001b[0;34m.\u001b[0m\u001b[0mon_train_batch_begin\u001b[0m\u001b[0;34m(\u001b[0m\u001b[0mstep\u001b[0m\u001b[0;34m)\u001b[0m\u001b[0;34m\u001b[0m\u001b[0;34m\u001b[0m\u001b[0m\n\u001b[0;32m-> 1184\u001b[0;31m               \u001b[0mtmp_logs\u001b[0m \u001b[0;34m=\u001b[0m \u001b[0mself\u001b[0m\u001b[0;34m.\u001b[0m\u001b[0mtrain_function\u001b[0m\u001b[0;34m(\u001b[0m\u001b[0miterator\u001b[0m\u001b[0;34m)\u001b[0m\u001b[0;34m\u001b[0m\u001b[0;34m\u001b[0m\u001b[0m\n\u001b[0m\u001b[1;32m   1185\u001b[0m               \u001b[0;32mif\u001b[0m \u001b[0mdata_handler\u001b[0m\u001b[0;34m.\u001b[0m\u001b[0mshould_sync\u001b[0m\u001b[0;34m:\u001b[0m\u001b[0;34m\u001b[0m\u001b[0;34m\u001b[0m\u001b[0m\n\u001b[1;32m   1186\u001b[0m                 \u001b[0mcontext\u001b[0m\u001b[0;34m.\u001b[0m\u001b[0masync_wait\u001b[0m\u001b[0;34m(\u001b[0m\u001b[0;34m)\u001b[0m\u001b[0;34m\u001b[0m\u001b[0;34m\u001b[0m\u001b[0m\n",
            "\u001b[0;32m/usr/local/lib/python3.7/dist-packages/tensorflow/python/eager/def_function.py\u001b[0m in \u001b[0;36m__call__\u001b[0;34m(self, *args, **kwds)\u001b[0m\n\u001b[1;32m    883\u001b[0m \u001b[0;34m\u001b[0m\u001b[0m\n\u001b[1;32m    884\u001b[0m       \u001b[0;32mwith\u001b[0m \u001b[0mOptionalXlaContext\u001b[0m\u001b[0;34m(\u001b[0m\u001b[0mself\u001b[0m\u001b[0;34m.\u001b[0m\u001b[0m_jit_compile\u001b[0m\u001b[0;34m)\u001b[0m\u001b[0;34m:\u001b[0m\u001b[0;34m\u001b[0m\u001b[0;34m\u001b[0m\u001b[0m\n\u001b[0;32m--> 885\u001b[0;31m         \u001b[0mresult\u001b[0m \u001b[0;34m=\u001b[0m \u001b[0mself\u001b[0m\u001b[0;34m.\u001b[0m\u001b[0m_call\u001b[0m\u001b[0;34m(\u001b[0m\u001b[0;34m*\u001b[0m\u001b[0margs\u001b[0m\u001b[0;34m,\u001b[0m \u001b[0;34m**\u001b[0m\u001b[0mkwds\u001b[0m\u001b[0;34m)\u001b[0m\u001b[0;34m\u001b[0m\u001b[0;34m\u001b[0m\u001b[0m\n\u001b[0m\u001b[1;32m    886\u001b[0m \u001b[0;34m\u001b[0m\u001b[0m\n\u001b[1;32m    887\u001b[0m       \u001b[0mnew_tracing_count\u001b[0m \u001b[0;34m=\u001b[0m \u001b[0mself\u001b[0m\u001b[0;34m.\u001b[0m\u001b[0mexperimental_get_tracing_count\u001b[0m\u001b[0;34m(\u001b[0m\u001b[0;34m)\u001b[0m\u001b[0;34m\u001b[0m\u001b[0;34m\u001b[0m\u001b[0m\n",
            "\u001b[0;32m/usr/local/lib/python3.7/dist-packages/tensorflow/python/eager/def_function.py\u001b[0m in \u001b[0;36m_call\u001b[0;34m(self, *args, **kwds)\u001b[0m\n\u001b[1;32m    948\u001b[0m         \u001b[0;31m# Lifting succeeded, so variables are initialized and we can run the\u001b[0m\u001b[0;34m\u001b[0m\u001b[0;34m\u001b[0m\u001b[0;34m\u001b[0m\u001b[0m\n\u001b[1;32m    949\u001b[0m         \u001b[0;31m# stateless function.\u001b[0m\u001b[0;34m\u001b[0m\u001b[0;34m\u001b[0m\u001b[0;34m\u001b[0m\u001b[0m\n\u001b[0;32m--> 950\u001b[0;31m         \u001b[0;32mreturn\u001b[0m \u001b[0mself\u001b[0m\u001b[0;34m.\u001b[0m\u001b[0m_stateless_fn\u001b[0m\u001b[0;34m(\u001b[0m\u001b[0;34m*\u001b[0m\u001b[0margs\u001b[0m\u001b[0;34m,\u001b[0m \u001b[0;34m**\u001b[0m\u001b[0mkwds\u001b[0m\u001b[0;34m)\u001b[0m\u001b[0;34m\u001b[0m\u001b[0;34m\u001b[0m\u001b[0m\n\u001b[0m\u001b[1;32m    951\u001b[0m     \u001b[0;32melse\u001b[0m\u001b[0;34m:\u001b[0m\u001b[0;34m\u001b[0m\u001b[0;34m\u001b[0m\u001b[0m\n\u001b[1;32m    952\u001b[0m       \u001b[0m_\u001b[0m\u001b[0;34m,\u001b[0m \u001b[0m_\u001b[0m\u001b[0;34m,\u001b[0m \u001b[0m_\u001b[0m\u001b[0;34m,\u001b[0m \u001b[0mfiltered_flat_args\u001b[0m \u001b[0;34m=\u001b[0m\u001b[0;31m \u001b[0m\u001b[0;31m\\\u001b[0m\u001b[0;34m\u001b[0m\u001b[0;34m\u001b[0m\u001b[0m\n",
            "\u001b[0;32m/usr/local/lib/python3.7/dist-packages/tensorflow/python/eager/function.py\u001b[0m in \u001b[0;36m__call__\u001b[0;34m(self, *args, **kwargs)\u001b[0m\n\u001b[1;32m   3038\u001b[0m        filtered_flat_args) = self._maybe_define_function(args, kwargs)\n\u001b[1;32m   3039\u001b[0m     return graph_function._call_flat(\n\u001b[0;32m-> 3040\u001b[0;31m         filtered_flat_args, captured_inputs=graph_function.captured_inputs)  # pylint: disable=protected-access\n\u001b[0m\u001b[1;32m   3041\u001b[0m \u001b[0;34m\u001b[0m\u001b[0m\n\u001b[1;32m   3042\u001b[0m   \u001b[0;34m@\u001b[0m\u001b[0mproperty\u001b[0m\u001b[0;34m\u001b[0m\u001b[0;34m\u001b[0m\u001b[0m\n",
            "\u001b[0;32m/usr/local/lib/python3.7/dist-packages/tensorflow/python/eager/function.py\u001b[0m in \u001b[0;36m_call_flat\u001b[0;34m(self, args, captured_inputs, cancellation_manager)\u001b[0m\n\u001b[1;32m   1962\u001b[0m       \u001b[0;31m# No tape is watching; skip to running the function.\u001b[0m\u001b[0;34m\u001b[0m\u001b[0;34m\u001b[0m\u001b[0;34m\u001b[0m\u001b[0m\n\u001b[1;32m   1963\u001b[0m       return self._build_call_outputs(self._inference_function.call(\n\u001b[0;32m-> 1964\u001b[0;31m           ctx, args, cancellation_manager=cancellation_manager))\n\u001b[0m\u001b[1;32m   1965\u001b[0m     forward_backward = self._select_forward_and_backward_functions(\n\u001b[1;32m   1966\u001b[0m         \u001b[0margs\u001b[0m\u001b[0;34m,\u001b[0m\u001b[0;34m\u001b[0m\u001b[0;34m\u001b[0m\u001b[0m\n",
            "\u001b[0;32m/usr/local/lib/python3.7/dist-packages/tensorflow/python/eager/function.py\u001b[0m in \u001b[0;36mcall\u001b[0;34m(self, ctx, args, cancellation_manager)\u001b[0m\n\u001b[1;32m    594\u001b[0m               \u001b[0minputs\u001b[0m\u001b[0;34m=\u001b[0m\u001b[0margs\u001b[0m\u001b[0;34m,\u001b[0m\u001b[0;34m\u001b[0m\u001b[0;34m\u001b[0m\u001b[0m\n\u001b[1;32m    595\u001b[0m               \u001b[0mattrs\u001b[0m\u001b[0;34m=\u001b[0m\u001b[0mattrs\u001b[0m\u001b[0;34m,\u001b[0m\u001b[0;34m\u001b[0m\u001b[0;34m\u001b[0m\u001b[0m\n\u001b[0;32m--> 596\u001b[0;31m               ctx=ctx)\n\u001b[0m\u001b[1;32m    597\u001b[0m         \u001b[0;32melse\u001b[0m\u001b[0;34m:\u001b[0m\u001b[0;34m\u001b[0m\u001b[0;34m\u001b[0m\u001b[0m\n\u001b[1;32m    598\u001b[0m           outputs = execute.execute_with_cancellation(\n",
            "\u001b[0;32m/usr/local/lib/python3.7/dist-packages/tensorflow/python/eager/execute.py\u001b[0m in \u001b[0;36mquick_execute\u001b[0;34m(op_name, num_outputs, inputs, attrs, ctx, name)\u001b[0m\n\u001b[1;32m     58\u001b[0m     \u001b[0mctx\u001b[0m\u001b[0;34m.\u001b[0m\u001b[0mensure_initialized\u001b[0m\u001b[0;34m(\u001b[0m\u001b[0;34m)\u001b[0m\u001b[0;34m\u001b[0m\u001b[0;34m\u001b[0m\u001b[0m\n\u001b[1;32m     59\u001b[0m     tensors = pywrap_tfe.TFE_Py_Execute(ctx._handle, device_name, op_name,\n\u001b[0;32m---> 60\u001b[0;31m                                         inputs, attrs, num_outputs)\n\u001b[0m\u001b[1;32m     61\u001b[0m   \u001b[0;32mexcept\u001b[0m \u001b[0mcore\u001b[0m\u001b[0;34m.\u001b[0m\u001b[0m_NotOkStatusException\u001b[0m \u001b[0;32mas\u001b[0m \u001b[0me\u001b[0m\u001b[0;34m:\u001b[0m\u001b[0;34m\u001b[0m\u001b[0;34m\u001b[0m\u001b[0m\n\u001b[1;32m     62\u001b[0m     \u001b[0;32mif\u001b[0m \u001b[0mname\u001b[0m \u001b[0;32mis\u001b[0m \u001b[0;32mnot\u001b[0m \u001b[0;32mNone\u001b[0m\u001b[0;34m:\u001b[0m\u001b[0;34m\u001b[0m\u001b[0;34m\u001b[0m\u001b[0m\n",
            "\u001b[0;31mInvalidArgumentError\u001b[0m:  Input to reshape is a tensor with 399360 values, but the requested shape has 379080\n\t [[node model_1/patch_merge_v2_6/Reshape (defined at <ipython-input-2-b9113702e814>:76) ]] [Op:__inference_train_function_59304]\n\nErrors may have originated from an input operation.\nInput Source operations connected to node model_1/patch_merge_v2_6/Reshape:\n model_1/add_55/add (defined at <ipython-input-8-32909cb38f86>:2)\n\nFunction call stack:\ntrain_function\n"
          ]
        }
      ]
    },
    {
      "cell_type": "markdown",
      "metadata": {
        "id": "GzmhrqIawokO"
      },
      "source": [
        "# Analysis Overall and Save"
      ]
    },
    {
      "cell_type": "code",
      "metadata": {
        "id": "6Rw-lEYplNul"
      },
      "source": [
        "#Save Analysis"
      ],
      "execution_count": null,
      "outputs": []
    },
    {
      "cell_type": "markdown",
      "metadata": {
        "id": "sf1pPBZVlQna"
      },
      "source": [
        "# Sparse Local Attention Transformer Encoder\n",
        "### Only attends to 'k' surrounding neighbours in 8 directions\n",
        "### 'k' is for simplicity pre-determined bassed on input size. However it can be made as learnable parameter.\n",
        "### for each patch 'i', 'k' surrounding similar patches are merged into a singe patch to input into global attention module.\n",
        "\n",
        "---------------------------Encoder Complete-----------------------------------\n",
        "\n",
        "### Decoder : {(MLP for Classification), }\n"
      ]
    },
    {
      "cell_type": "code",
      "metadata": {
        "id": "UHa6rRcdmhST"
      },
      "source": [
        "#Encoder Architecture"
      ],
      "execution_count": null,
      "outputs": []
    },
    {
      "cell_type": "code",
      "metadata": {
        "id": "0EElkg9Nmllx"
      },
      "source": [
        "#Classification Model"
      ],
      "execution_count": null,
      "outputs": []
    },
    {
      "cell_type": "code",
      "metadata": {
        "id": "W8pnC6Xjmnu2"
      },
      "source": [
        "#Training"
      ],
      "execution_count": null,
      "outputs": []
    },
    {
      "cell_type": "code",
      "metadata": {
        "id": "W8mIt7Psmqej"
      },
      "source": [
        "#Analysis"
      ],
      "execution_count": null,
      "outputs": []
    },
    {
      "cell_type": "code",
      "metadata": {
        "id": "YBl_ypB4mtHB"
      },
      "source": [
        "#Save Analysis"
      ],
      "execution_count": null,
      "outputs": []
    },
    {
      "cell_type": "markdown",
      "metadata": {
        "id": "3cqSolj-mwHU"
      },
      "source": [
        "#Extra Cross-Model Comparisons and Studies"
      ]
    },
    {
      "cell_type": "code",
      "metadata": {
        "id": "yXCeb-yDmus6"
      },
      "source": [
        ""
      ],
      "execution_count": null,
      "outputs": []
    },
    {
      "cell_type": "markdown",
      "metadata": {
        "id": "jq4II1qKm2Z5"
      },
      "source": [
        "# Final Thoughts and Conclusion"
      ]
    },
    {
      "cell_type": "code",
      "metadata": {
        "id": "oBRJpWIrm6cQ"
      },
      "source": [
        "#The End"
      ],
      "execution_count": null,
      "outputs": []
    }
  ]
}