{
  "nbformat": 4,
  "nbformat_minor": 0,
  "metadata": {
    "colab": {
      "provenance": [],
      "authorship_tag": "ABX9TyM7zre9GUbORcMJriFSJwdV",
      "include_colab_link": true
    },
    "kernelspec": {
      "name": "python3",
      "display_name": "Python 3"
    },
    "language_info": {
      "name": "python"
    }
  },
  "cells": [
    {
      "cell_type": "markdown",
      "metadata": {
        "id": "view-in-github",
        "colab_type": "text"
      },
      "source": [
        "<a href=\"https://colab.research.google.com/github/kainspraveen/Local-Global-Attention-Network/blob/main/Multi_level_Attention.ipynb\" target=\"_parent\"><img src=\"https://colab.research.google.com/assets/colab-badge.svg\" alt=\"Open In Colab\"/></a>"
      ]
    },
    {
      "cell_type": "markdown",
      "metadata": {
        "id": "Ky_ugvyJZi97"
      },
      "source": [
        "# **Multi Level Attention for Vision Tasks**"
      ]
    },
    {
      "cell_type": "code",
      "metadata": {
        "id": "OhyNwCrnZdO8"
      },
      "source": [
        "!nvidia-smi"
      ],
      "execution_count": null,
      "outputs": []
    },
    {
      "cell_type": "markdown",
      "metadata": {
        "id": "LVaUDUPuZ79F"
      },
      "source": [
        "# Environment Setup"
      ]
    },
    {
      "cell_type": "code",
      "metadata": {
        "id": "G8T4iMUEZ622"
      },
      "source": [
        "from google.colab import drive\n",
        "drive.mount('/content/drive')"
      ],
      "execution_count": null,
      "outputs": []
    },
    {
      "cell_type": "markdown",
      "metadata": {
        "id": "-RQTVDjTaD2I"
      },
      "source": [
        "# Data Upload to Runtime"
      ]
    },
    {
      "cell_type": "code",
      "metadata": {
        "id": "kro4TRlbaH3e"
      },
      "source": [
        "!unzip "
      ],
      "execution_count": null,
      "outputs": []
    },
    {
      "cell_type": "markdown",
      "metadata": {
        "id": "Vmr2z3S7aMRK"
      },
      "source": [
        "# Data Input to Program"
      ]
    },
    {
      "cell_type": "code",
      "metadata": {
        "id": "YwoMsr8aaPST"
      },
      "source": [
        "#imports\n",
        "from __future__ import division\n",
        "import tensorflow as tf\n",
        "import numpy as np\n",
        "import pandas as pd\n",
        "from PIL import Image\n",
        "import PIL as pil\n",
        "import random\n",
        "import os\n",
        "from copy import deepcopy\n",
        "from matplotlib import pyplot as plt\n",
        "import skimage\n",
        "import os\n",
        "import skimage.io as io\n",
        "import skimage.transform as trans\n",
        "import numpy as np\n",
        "from tensorflow.keras.models import *\n",
        "from tensorflow.keras.layers import *\n",
        "from tensorflow.keras.optimizers import *\n",
        "from tensorflow.keras.callbacks import ModelCheckpoint, LearningRateScheduler\n",
        "from tensorflow.keras import backend as keras\n",
        "from tensorflow.keras.utils import plot_model\n",
        "import os\n",
        "from tensorflow.keras.optimizers import SGD\n",
        "from numpy import asarray\n",
        "import matplotlib.image as mpimg\n",
        "from skimage import color\n",
        "from tensorflow.keras import backend as K\n",
        "from skimage import io\n",
        "import sys\n",
        "from time import time\n",
        "from time import sleep\n",
        "import datetime\n",
        "from scipy.stats import zscore\n",
        "from sklearn.utils import shuffle\n",
        "from IPython.display import display\n",
        "from IPython.display import Image as _Imgdis\n",
        "\n",
        "from scipy import ndimage\n",
        "from keras.preprocessing.image import ImageDataGenerator, array_to_img, img_to_array, load_img\n",
        "\n",
        "\n",
        "np.set_printoptions(threshold=sys.maxsize)\n",
        "os.environ['TF_CPP_MIN_LOG_LEVEL'] = '2'\n",
        "os.environ['CUDA_VISIBLE_DEVICES'] = \"0\""
      ],
      "execution_count": null,
      "outputs": []
    },
    {
      "cell_type": "code",
      "metadata": {
        "id": "YhR28qPBaVgk"
      },
      "source": [
        "def unpickle(file):\n",
        "    import pickle\n",
        "    with open(file,'rb') as fo:\n",
        "        dict=pickle.load(fo, encoding='bytes')\n",
        "    return dict"
      ],
      "execution_count": null,
      "outputs": []
    },
    {
      "cell_type": "markdown",
      "metadata": {
        "id": "nXUsXT4DaX4s"
      },
      "source": [
        "# Data Pre-Processing"
      ]
    },
    {
      "cell_type": "code",
      "metadata": {
        "id": "iDS4wB8JaZgT"
      },
      "source": [
        "#Normalize data from 0-255 to 0-1\n",
        "\n",
        "#train_data=train_data/255\n",
        "for i in range(50000):\n",
        "    mean, std = train_data[i].mean(), train_data[i].std()\n",
        "    train_data[i]=(train_data[i]-mean)/std"
      ],
      "execution_count": null,
      "outputs": []
    },
    {
      "cell_type": "markdown",
      "metadata": {
        "id": "j2LN9xphahDG"
      },
      "source": [
        "# Optional Over-Sampling using Augmentations"
      ]
    },
    {
      "cell_type": "code",
      "metadata": {
        "id": "ZS_R-XaMagPL"
      },
      "source": [],
      "execution_count": null,
      "outputs": []
    },
    {
      "cell_type": "markdown",
      "metadata": {
        "id": "2VY7Dft6amyV"
      },
      "source": [
        "# Model Architecture (Back Bone)"
      ]
    },
    {
      "cell_type": "code",
      "metadata": {
        "id": "XgkFGvByatTm"
      },
      "source": [],
      "execution_count": null,
      "outputs": []
    },
    {
      "cell_type": "markdown",
      "metadata": {
        "id": "ynmRCMoKatlS"
      },
      "source": [
        "# Model Architecture (Variant 1)"
      ]
    },
    {
      "cell_type": "code",
      "metadata": {
        "id": "rHmYnALZayzc"
      },
      "source": [],
      "execution_count": null,
      "outputs": []
    },
    {
      "cell_type": "markdown",
      "metadata": {
        "id": "Dj1Dex1say_V"
      },
      "source": [
        "# Model Architecture (Variant 2)"
      ]
    },
    {
      "cell_type": "code",
      "metadata": {
        "id": "wPaxo760azko"
      },
      "source": [],
      "execution_count": null,
      "outputs": []
    },
    {
      "cell_type": "markdown",
      "metadata": {
        "id": "CqRuC1MZazy1"
      },
      "source": [
        "# Model Architecture (Variant 3)"
      ]
    },
    {
      "cell_type": "code",
      "metadata": {
        "id": "ac6mxs3Ca0Tj"
      },
      "source": [],
      "execution_count": null,
      "outputs": []
    },
    {
      "cell_type": "markdown",
      "metadata": {
        "id": "i9tvP34Aa0lX"
      },
      "source": [
        "# Model Architecture (Variant 4)"
      ]
    },
    {
      "cell_type": "code",
      "metadata": {
        "id": "ZghKg-pka49s"
      },
      "source": [],
      "execution_count": null,
      "outputs": []
    },
    {
      "cell_type": "markdown",
      "metadata": {
        "id": "tDVzuxzYa-ND"
      },
      "source": [
        "# Training"
      ]
    },
    {
      "cell_type": "code",
      "metadata": {
        "id": "CIT3wEt3bB7d"
      },
      "source": [],
      "execution_count": null,
      "outputs": []
    },
    {
      "cell_type": "markdown",
      "metadata": {
        "id": "dGrvqCXObCF1"
      },
      "source": [
        "# Model Testing and Evaluation"
      ]
    },
    {
      "cell_type": "code",
      "metadata": {
        "id": "p9Xrs468bGVA"
      },
      "source": [],
      "execution_count": null,
      "outputs": []
    },
    {
      "cell_type": "markdown",
      "metadata": {
        "id": "w_HF71AJbGej"
      },
      "source": [
        "# Study : Results and Analysis"
      ]
    },
    {
      "cell_type": "code",
      "metadata": {
        "id": "lmJ3s7aIbLq1"
      },
      "source": [],
      "execution_count": null,
      "outputs": []
    },
    {
      "cell_type": "markdown",
      "metadata": {
        "id": "xzNwZ2iabL1b"
      },
      "source": [
        "# Extra : Post Work Implementations"
      ]
    },
    {
      "cell_type": "code",
      "metadata": {
        "id": "pGoceTi0bPcI"
      },
      "source": [],
      "execution_count": null,
      "outputs": []
    },
    {
      "cell_type": "markdown",
      "metadata": {
        "id": "4eondu9kbQFv"
      },
      "source": [
        "# Final Notes/Observations\n",
        "#### Lorem Ipsum"
      ]
    }
  ]
}